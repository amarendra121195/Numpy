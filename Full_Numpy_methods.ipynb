{
 "cells": [
  {
   "cell_type": "code",
   "execution_count": 1,
   "id": "f0757e55",
   "metadata": {},
   "outputs": [],
   "source": [
    "import numpy as np"
   ]
  },
  {
   "cell_type": "code",
   "execution_count": 2,
   "id": "c20e611a",
   "metadata": {},
   "outputs": [],
   "source": [
    "# Creating numpy /n-d Array"
   ]
  },
  {
   "cell_type": "code",
   "execution_count": 3,
   "id": "b4282de9",
   "metadata": {},
   "outputs": [],
   "source": [
    "import array"
   ]
  },
  {
   "cell_type": "code",
   "execution_count": 4,
   "id": "beb1b9a6",
   "metadata": {},
   "outputs": [
    {
     "data": {
      "text/plain": [
       "array('i', [1, 2, 3, 4, 5])"
      ]
     },
     "execution_count": 4,
     "metadata": {},
     "output_type": "execute_result"
    }
   ],
   "source": [
    "arr1=array.array('i',[1,2,3,4,5])\n",
    "arr1"
   ]
  },
  {
   "cell_type": "code",
   "execution_count": 5,
   "id": "3c62cdf6",
   "metadata": {},
   "outputs": [
    {
     "data": {
      "text/plain": [
       "array.array"
      ]
     },
     "execution_count": 5,
     "metadata": {},
     "output_type": "execute_result"
    }
   ],
   "source": [
    "type(arr1)"
   ]
  },
  {
   "cell_type": "code",
   "execution_count": 6,
   "id": "0e392650",
   "metadata": {},
   "outputs": [
    {
     "data": {
      "text/plain": [
       "array('i', [1, 2, 3, 4, 5, 6])"
      ]
     },
     "execution_count": 6,
     "metadata": {},
     "output_type": "execute_result"
    }
   ],
   "source": [
    "from array import*\n",
    "arr2=array('i',[1,2,3,4,5,6])\n",
    "arr2"
   ]
  },
  {
   "cell_type": "code",
   "execution_count": 7,
   "id": "50d5b4da",
   "metadata": {},
   "outputs": [
    {
     "data": {
      "text/plain": [
       "array.array"
      ]
     },
     "execution_count": 7,
     "metadata": {},
     "output_type": "execute_result"
    }
   ],
   "source": [
    "type(arr2)"
   ]
  },
  {
   "cell_type": "code",
   "execution_count": 8,
   "id": "b36e189d",
   "metadata": {},
   "outputs": [
    {
     "data": {
      "text/plain": [
       "array([1, 2, 3, 4, 5, 6, 7])"
      ]
     },
     "execution_count": 8,
     "metadata": {},
     "output_type": "execute_result"
    }
   ],
   "source": [
    "arr3=np.array([1,2,3,4,5,6,7])\n",
    "arr3"
   ]
  },
  {
   "cell_type": "code",
   "execution_count": 9,
   "id": "80f74a73",
   "metadata": {},
   "outputs": [
    {
     "data": {
      "text/plain": [
       "numpy.ndarray"
      ]
     },
     "execution_count": 9,
     "metadata": {},
     "output_type": "execute_result"
    }
   ],
   "source": [
    "type(arr3)"
   ]
  },
  {
   "cell_type": "code",
   "execution_count": 10,
   "id": "dbb5a765",
   "metadata": {},
   "outputs": [
    {
     "data": {
      "text/plain": [
       "array([[1, 2, 3, 4],\n",
       "       [2, 3, 4, 5]])"
      ]
     },
     "execution_count": 10,
     "metadata": {},
     "output_type": "execute_result"
    }
   ],
   "source": [
    "arr4=np.array([[1,2,3,4],[2,3,4,5]])\n",
    "arr4"
   ]
  },
  {
   "cell_type": "code",
   "execution_count": 11,
   "id": "97ba12df",
   "metadata": {},
   "outputs": [
    {
     "data": {
      "text/plain": [
       "numpy.ndarray"
      ]
     },
     "execution_count": 11,
     "metadata": {},
     "output_type": "execute_result"
    }
   ],
   "source": [
    "type(arr4)"
   ]
  },
  {
   "cell_type": "code",
   "execution_count": 12,
   "id": "6d919700",
   "metadata": {},
   "outputs": [
    {
     "data": {
      "text/plain": [
       "array([[0, 0, 0],\n",
       "       [0, 0, 0],\n",
       "       [0, 0, 0]])"
      ]
     },
     "execution_count": 12,
     "metadata": {},
     "output_type": "execute_result"
    }
   ],
   "source": [
    "arr5=np.zeros((3,3),dtype='int')\n",
    "arr5"
   ]
  },
  {
   "cell_type": "code",
   "execution_count": 13,
   "id": "bf3a35e6",
   "metadata": {},
   "outputs": [
    {
     "data": {
      "text/plain": [
       "array([[1, 1, 1],\n",
       "       [1, 1, 1]])"
      ]
     },
     "execution_count": 13,
     "metadata": {},
     "output_type": "execute_result"
    }
   ],
   "source": [
    "arr6=np.ones((2,3),dtype='int')\n",
    "arr6"
   ]
  },
  {
   "cell_type": "code",
   "execution_count": 14,
   "id": "3156a2fe",
   "metadata": {},
   "outputs": [
    {
     "data": {
      "text/plain": [
       "array([[1, 0, 0, 0, 0],\n",
       "       [0, 1, 0, 0, 0],\n",
       "       [0, 0, 1, 0, 0],\n",
       "       [0, 0, 0, 1, 0],\n",
       "       [0, 0, 0, 0, 1]])"
      ]
     },
     "execution_count": 14,
     "metadata": {},
     "output_type": "execute_result"
    }
   ],
   "source": [
    "arr7=np.identity(5,dtype='int')\n",
    "arr7"
   ]
  },
  {
   "cell_type": "code",
   "execution_count": 15,
   "id": "55867ef4",
   "metadata": {},
   "outputs": [
    {
     "data": {
      "text/plain": [
       "array([0, 1, 2, 3, 4, 5, 6, 7, 8, 9])"
      ]
     },
     "execution_count": 15,
     "metadata": {},
     "output_type": "execute_result"
    }
   ],
   "source": [
    "arr8=np.arange(10)   # here range is numpy\n",
    "arr8"
   ]
  },
  {
   "cell_type": "code",
   "execution_count": 16,
   "id": "149149e6",
   "metadata": {},
   "outputs": [
    {
     "data": {
      "text/plain": [
       "array([10.        , 10.52631579, 11.05263158, 11.57894737, 12.10526316,\n",
       "       12.63157895, 13.15789474, 13.68421053, 14.21052632, 14.73684211,\n",
       "       15.26315789, 15.78947368, 16.31578947, 16.84210526, 17.36842105,\n",
       "       17.89473684, 18.42105263, 18.94736842, 19.47368421, 20.        ])"
      ]
     },
     "execution_count": 16,
     "metadata": {},
     "output_type": "execute_result"
    }
   ],
   "source": [
    "arr9=np.linspace(10,20,num=20) ## here 10 to 20,15 values\n",
    "arr9"
   ]
  },
  {
   "cell_type": "code",
   "execution_count": 20,
   "id": "eb81aab9",
   "metadata": {},
   "outputs": [
    {
     "data": {
      "text/plain": [
       "array([2.20264658e+04, 3.72838595e+04, 6.31098147e+04, 1.06825012e+05,\n",
       "       1.80821052e+05, 3.06073010e+05, 5.18085071e+05, 8.76954621e+05,\n",
       "       1.48440758e+06, 2.51263385e+06, 4.25309663e+06, 7.19915117e+06,\n",
       "       1.21858923e+07, 2.06268723e+07, 3.49147891e+07, 5.90997258e+07,\n",
       "       1.00037196e+08, 1.69331421e+08, 2.86624688e+08, 4.85165195e+08])"
      ]
     },
     "execution_count": 20,
     "metadata": {},
     "output_type": "execute_result"
    }
   ],
   "source": [
    "np.exp(arr9)"
   ]
  },
  {
   "cell_type": "code",
   "execution_count": 21,
   "id": "d573ed33",
   "metadata": {},
   "outputs": [],
   "source": [
    "arr01=arr9.copy()"
   ]
  },
  {
   "cell_type": "code",
   "execution_count": 22,
   "id": "9525b303",
   "metadata": {},
   "outputs": [
    {
     "data": {
      "text/plain": [
       "array([10.        , 10.52631579, 11.05263158, 11.57894737, 12.10526316,\n",
       "       12.63157895, 13.15789474, 13.68421053, 14.21052632, 14.73684211,\n",
       "       15.26315789, 15.78947368, 16.31578947, 16.84210526, 17.36842105,\n",
       "       17.89473684, 18.42105263, 18.94736842, 19.47368421, 20.        ])"
      ]
     },
     "execution_count": 22,
     "metadata": {},
     "output_type": "execute_result"
    }
   ],
   "source": [
    "arr01"
   ]
  },
  {
   "cell_type": "code",
   "execution_count": 23,
   "id": "ed561b71",
   "metadata": {},
   "outputs": [
    {
     "data": {
      "text/plain": [
       "(3, 3)"
      ]
     },
     "execution_count": 23,
     "metadata": {},
     "output_type": "execute_result"
    }
   ],
   "source": [
    "arr5.shape"
   ]
  },
  {
   "cell_type": "code",
   "execution_count": 24,
   "id": "30ae8125",
   "metadata": {},
   "outputs": [
    {
     "data": {
      "text/plain": [
       "array([[[1, 2],\n",
       "        [3, 4]],\n",
       "\n",
       "       [[5, 6],\n",
       "        [7, 8]]])"
      ]
     },
     "execution_count": 24,
     "metadata": {},
     "output_type": "execute_result"
    }
   ],
   "source": [
    "arr10=np.array([[[1,2],[3,4]],[[5,6],[7,8]]])\n",
    "arr10"
   ]
  },
  {
   "cell_type": "code",
   "execution_count": 25,
   "id": "e3f8a60d",
   "metadata": {},
   "outputs": [
    {
     "data": {
      "text/plain": [
       "(2, 2, 2)"
      ]
     },
     "execution_count": 25,
     "metadata": {},
     "output_type": "execute_result"
    }
   ],
   "source": [
    "arr10.shape"
   ]
  },
  {
   "cell_type": "code",
   "execution_count": 26,
   "id": "ea898335",
   "metadata": {},
   "outputs": [
    {
     "data": {
      "text/plain": [
       "3"
      ]
     },
     "execution_count": 26,
     "metadata": {},
     "output_type": "execute_result"
    }
   ],
   "source": [
    "arr10.ndim"
   ]
  },
  {
   "cell_type": "code",
   "execution_count": 27,
   "id": "93a47191",
   "metadata": {},
   "outputs": [
    {
     "data": {
      "text/plain": [
       "8"
      ]
     },
     "execution_count": 27,
     "metadata": {},
     "output_type": "execute_result"
    }
   ],
   "source": [
    "arr10.size"
   ]
  },
  {
   "cell_type": "code",
   "execution_count": 28,
   "id": "fd399f6e",
   "metadata": {},
   "outputs": [
    {
     "data": {
      "text/plain": [
       "4"
      ]
     },
     "execution_count": 28,
     "metadata": {},
     "output_type": "execute_result"
    }
   ],
   "source": [
    "arr10.itemsize"
   ]
  },
  {
   "cell_type": "code",
   "execution_count": 29,
   "id": "a5dd315d",
   "metadata": {},
   "outputs": [
    {
     "data": {
      "text/plain": [
       "<function ndarray.item>"
      ]
     },
     "execution_count": 29,
     "metadata": {},
     "output_type": "execute_result"
    }
   ],
   "source": [
    "arr10.item"
   ]
  },
  {
   "cell_type": "code",
   "execution_count": 30,
   "id": "8da7c64d",
   "metadata": {},
   "outputs": [
    {
     "data": {
      "text/plain": [
       "dtype('int32')"
      ]
     },
     "execution_count": 30,
     "metadata": {},
     "output_type": "execute_result"
    }
   ],
   "source": [
    "arr10.dtype"
   ]
  },
  {
   "cell_type": "code",
   "execution_count": 31,
   "id": "d0ccdc0d",
   "metadata": {},
   "outputs": [
    {
     "data": {
      "text/plain": [
       "array([[[1., 2.],\n",
       "        [3., 4.]],\n",
       "\n",
       "       [[5., 6.],\n",
       "        [7., 8.]]])"
      ]
     },
     "execution_count": 31,
     "metadata": {},
     "output_type": "execute_result"
    }
   ],
   "source": [
    "arr10.astype('float')"
   ]
  },
  {
   "cell_type": "code",
   "execution_count": 32,
   "id": "6da74416",
   "metadata": {},
   "outputs": [
    {
     "data": {
      "text/plain": [
       "array([[[1, 2],\n",
       "        [3, 4]],\n",
       "\n",
       "       [[5, 6],\n",
       "        [7, 8]]])"
      ]
     },
     "execution_count": 32,
     "metadata": {},
     "output_type": "execute_result"
    }
   ],
   "source": [
    "arr10.astype('int')"
   ]
  },
  {
   "cell_type": "code",
   "execution_count": null,
   "id": "6bc91a8b",
   "metadata": {},
   "outputs": [],
   "source": []
  },
  {
   "cell_type": "code",
   "execution_count": 33,
   "id": "7f1d3211",
   "metadata": {},
   "outputs": [],
   "source": [
    "lista=range(100)\n",
    "arr11=np.arange(100)"
   ]
  },
  {
   "cell_type": "code",
   "execution_count": 34,
   "id": "7057f7a0",
   "metadata": {},
   "outputs": [
    {
     "data": {
      "text/plain": [
       "range(0, 100)"
      ]
     },
     "execution_count": 34,
     "metadata": {},
     "output_type": "execute_result"
    }
   ],
   "source": [
    "lista"
   ]
  },
  {
   "cell_type": "code",
   "execution_count": 35,
   "id": "131d842e",
   "metadata": {},
   "outputs": [],
   "source": [
    "import sys"
   ]
  },
  {
   "cell_type": "code",
   "execution_count": 36,
   "id": "3c3f7ef6",
   "metadata": {},
   "outputs": [
    {
     "data": {
      "text/plain": [
       "array([ 0,  1,  2,  3,  4,  5,  6,  7,  8,  9, 10, 11, 12, 13, 14, 15, 16,\n",
       "       17, 18, 19, 20, 21, 22, 23, 24, 25, 26, 27, 28, 29, 30, 31, 32, 33,\n",
       "       34, 35, 36, 37, 38, 39, 40, 41, 42, 43, 44, 45, 46, 47, 48, 49, 50,\n",
       "       51, 52, 53, 54, 55, 56, 57, 58, 59, 60, 61, 62, 63, 64, 65, 66, 67,\n",
       "       68, 69, 70, 71, 72, 73, 74, 75, 76, 77, 78, 79, 80, 81, 82, 83, 84,\n",
       "       85, 86, 87, 88, 89, 90, 91, 92, 93, 94, 95, 96, 97, 98, 99])"
      ]
     },
     "execution_count": 36,
     "metadata": {},
     "output_type": "execute_result"
    }
   ],
   "source": [
    "arr11"
   ]
  },
  {
   "cell_type": "code",
   "execution_count": 37,
   "id": "57b4ad70",
   "metadata": {},
   "outputs": [
    {
     "name": "stdout",
     "output_type": "stream",
     "text": [
      "2800\n"
     ]
    }
   ],
   "source": [
    "print(sys.getsizeof(87)*len(lista))"
   ]
  },
  {
   "cell_type": "code",
   "execution_count": 38,
   "id": "7455b1bf",
   "metadata": {},
   "outputs": [
    {
     "name": "stdout",
     "output_type": "stream",
     "text": [
      "400\n"
     ]
    }
   ],
   "source": [
    "print(arr11.itemsize*arr11.size)"
   ]
  },
  {
   "cell_type": "code",
   "execution_count": 39,
   "id": "e6503a70",
   "metadata": {},
   "outputs": [],
   "source": [
    "import time\n",
    "import datetime"
   ]
  },
  {
   "cell_type": "code",
   "execution_count": 40,
   "id": "c68e924e",
   "metadata": {},
   "outputs": [],
   "source": [
    "x=range(10000)\n",
    "y=range(10000,20000)"
   ]
  },
  {
   "cell_type": "code",
   "execution_count": 41,
   "id": "e4810235",
   "metadata": {},
   "outputs": [],
   "source": [
    "start_time=time.time()"
   ]
  },
  {
   "cell_type": "code",
   "execution_count": 42,
   "id": "af637e68",
   "metadata": {},
   "outputs": [
    {
     "data": {
      "text/plain": [
       "[10000,\n",
       " 10002,\n",
       " 10004,\n",
       " 10006,\n",
       " 10008,\n",
       " 10010,\n",
       " 10012,\n",
       " 10014,\n",
       " 10016,\n",
       " 10018,\n",
       " 10020,\n",
       " 10022,\n",
       " 10024,\n",
       " 10026,\n",
       " 10028,\n",
       " 10030,\n",
       " 10032,\n",
       " 10034,\n",
       " 10036,\n",
       " 10038,\n",
       " 10040,\n",
       " 10042,\n",
       " 10044,\n",
       " 10046,\n",
       " 10048,\n",
       " 10050,\n",
       " 10052,\n",
       " 10054,\n",
       " 10056,\n",
       " 10058,\n",
       " 10060,\n",
       " 10062,\n",
       " 10064,\n",
       " 10066,\n",
       " 10068,\n",
       " 10070,\n",
       " 10072,\n",
       " 10074,\n",
       " 10076,\n",
       " 10078,\n",
       " 10080,\n",
       " 10082,\n",
       " 10084,\n",
       " 10086,\n",
       " 10088,\n",
       " 10090,\n",
       " 10092,\n",
       " 10094,\n",
       " 10096,\n",
       " 10098,\n",
       " 10100,\n",
       " 10102,\n",
       " 10104,\n",
       " 10106,\n",
       " 10108,\n",
       " 10110,\n",
       " 10112,\n",
       " 10114,\n",
       " 10116,\n",
       " 10118,\n",
       " 10120,\n",
       " 10122,\n",
       " 10124,\n",
       " 10126,\n",
       " 10128,\n",
       " 10130,\n",
       " 10132,\n",
       " 10134,\n",
       " 10136,\n",
       " 10138,\n",
       " 10140,\n",
       " 10142,\n",
       " 10144,\n",
       " 10146,\n",
       " 10148,\n",
       " 10150,\n",
       " 10152,\n",
       " 10154,\n",
       " 10156,\n",
       " 10158,\n",
       " 10160,\n",
       " 10162,\n",
       " 10164,\n",
       " 10166,\n",
       " 10168,\n",
       " 10170,\n",
       " 10172,\n",
       " 10174,\n",
       " 10176,\n",
       " 10178,\n",
       " 10180,\n",
       " 10182,\n",
       " 10184,\n",
       " 10186,\n",
       " 10188,\n",
       " 10190,\n",
       " 10192,\n",
       " 10194,\n",
       " 10196,\n",
       " 10198,\n",
       " 10200,\n",
       " 10202,\n",
       " 10204,\n",
       " 10206,\n",
       " 10208,\n",
       " 10210,\n",
       " 10212,\n",
       " 10214,\n",
       " 10216,\n",
       " 10218,\n",
       " 10220,\n",
       " 10222,\n",
       " 10224,\n",
       " 10226,\n",
       " 10228,\n",
       " 10230,\n",
       " 10232,\n",
       " 10234,\n",
       " 10236,\n",
       " 10238,\n",
       " 10240,\n",
       " 10242,\n",
       " 10244,\n",
       " 10246,\n",
       " 10248,\n",
       " 10250,\n",
       " 10252,\n",
       " 10254,\n",
       " 10256,\n",
       " 10258,\n",
       " 10260,\n",
       " 10262,\n",
       " 10264,\n",
       " 10266,\n",
       " 10268,\n",
       " 10270,\n",
       " 10272,\n",
       " 10274,\n",
       " 10276,\n",
       " 10278,\n",
       " 10280,\n",
       " 10282,\n",
       " 10284,\n",
       " 10286,\n",
       " 10288,\n",
       " 10290,\n",
       " 10292,\n",
       " 10294,\n",
       " 10296,\n",
       " 10298,\n",
       " 10300,\n",
       " 10302,\n",
       " 10304,\n",
       " 10306,\n",
       " 10308,\n",
       " 10310,\n",
       " 10312,\n",
       " 10314,\n",
       " 10316,\n",
       " 10318,\n",
       " 10320,\n",
       " 10322,\n",
       " 10324,\n",
       " 10326,\n",
       " 10328,\n",
       " 10330,\n",
       " 10332,\n",
       " 10334,\n",
       " 10336,\n",
       " 10338,\n",
       " 10340,\n",
       " 10342,\n",
       " 10344,\n",
       " 10346,\n",
       " 10348,\n",
       " 10350,\n",
       " 10352,\n",
       " 10354,\n",
       " 10356,\n",
       " 10358,\n",
       " 10360,\n",
       " 10362,\n",
       " 10364,\n",
       " 10366,\n",
       " 10368,\n",
       " 10370,\n",
       " 10372,\n",
       " 10374,\n",
       " 10376,\n",
       " 10378,\n",
       " 10380,\n",
       " 10382,\n",
       " 10384,\n",
       " 10386,\n",
       " 10388,\n",
       " 10390,\n",
       " 10392,\n",
       " 10394,\n",
       " 10396,\n",
       " 10398,\n",
       " 10400,\n",
       " 10402,\n",
       " 10404,\n",
       " 10406,\n",
       " 10408,\n",
       " 10410,\n",
       " 10412,\n",
       " 10414,\n",
       " 10416,\n",
       " 10418,\n",
       " 10420,\n",
       " 10422,\n",
       " 10424,\n",
       " 10426,\n",
       " 10428,\n",
       " 10430,\n",
       " 10432,\n",
       " 10434,\n",
       " 10436,\n",
       " 10438,\n",
       " 10440,\n",
       " 10442,\n",
       " 10444,\n",
       " 10446,\n",
       " 10448,\n",
       " 10450,\n",
       " 10452,\n",
       " 10454,\n",
       " 10456,\n",
       " 10458,\n",
       " 10460,\n",
       " 10462,\n",
       " 10464,\n",
       " 10466,\n",
       " 10468,\n",
       " 10470,\n",
       " 10472,\n",
       " 10474,\n",
       " 10476,\n",
       " 10478,\n",
       " 10480,\n",
       " 10482,\n",
       " 10484,\n",
       " 10486,\n",
       " 10488,\n",
       " 10490,\n",
       " 10492,\n",
       " 10494,\n",
       " 10496,\n",
       " 10498,\n",
       " 10500,\n",
       " 10502,\n",
       " 10504,\n",
       " 10506,\n",
       " 10508,\n",
       " 10510,\n",
       " 10512,\n",
       " 10514,\n",
       " 10516,\n",
       " 10518,\n",
       " 10520,\n",
       " 10522,\n",
       " 10524,\n",
       " 10526,\n",
       " 10528,\n",
       " 10530,\n",
       " 10532,\n",
       " 10534,\n",
       " 10536,\n",
       " 10538,\n",
       " 10540,\n",
       " 10542,\n",
       " 10544,\n",
       " 10546,\n",
       " 10548,\n",
       " 10550,\n",
       " 10552,\n",
       " 10554,\n",
       " 10556,\n",
       " 10558,\n",
       " 10560,\n",
       " 10562,\n",
       " 10564,\n",
       " 10566,\n",
       " 10568,\n",
       " 10570,\n",
       " 10572,\n",
       " 10574,\n",
       " 10576,\n",
       " 10578,\n",
       " 10580,\n",
       " 10582,\n",
       " 10584,\n",
       " 10586,\n",
       " 10588,\n",
       " 10590,\n",
       " 10592,\n",
       " 10594,\n",
       " 10596,\n",
       " 10598,\n",
       " 10600,\n",
       " 10602,\n",
       " 10604,\n",
       " 10606,\n",
       " 10608,\n",
       " 10610,\n",
       " 10612,\n",
       " 10614,\n",
       " 10616,\n",
       " 10618,\n",
       " 10620,\n",
       " 10622,\n",
       " 10624,\n",
       " 10626,\n",
       " 10628,\n",
       " 10630,\n",
       " 10632,\n",
       " 10634,\n",
       " 10636,\n",
       " 10638,\n",
       " 10640,\n",
       " 10642,\n",
       " 10644,\n",
       " 10646,\n",
       " 10648,\n",
       " 10650,\n",
       " 10652,\n",
       " 10654,\n",
       " 10656,\n",
       " 10658,\n",
       " 10660,\n",
       " 10662,\n",
       " 10664,\n",
       " 10666,\n",
       " 10668,\n",
       " 10670,\n",
       " 10672,\n",
       " 10674,\n",
       " 10676,\n",
       " 10678,\n",
       " 10680,\n",
       " 10682,\n",
       " 10684,\n",
       " 10686,\n",
       " 10688,\n",
       " 10690,\n",
       " 10692,\n",
       " 10694,\n",
       " 10696,\n",
       " 10698,\n",
       " 10700,\n",
       " 10702,\n",
       " 10704,\n",
       " 10706,\n",
       " 10708,\n",
       " 10710,\n",
       " 10712,\n",
       " 10714,\n",
       " 10716,\n",
       " 10718,\n",
       " 10720,\n",
       " 10722,\n",
       " 10724,\n",
       " 10726,\n",
       " 10728,\n",
       " 10730,\n",
       " 10732,\n",
       " 10734,\n",
       " 10736,\n",
       " 10738,\n",
       " 10740,\n",
       " 10742,\n",
       " 10744,\n",
       " 10746,\n",
       " 10748,\n",
       " 10750,\n",
       " 10752,\n",
       " 10754,\n",
       " 10756,\n",
       " 10758,\n",
       " 10760,\n",
       " 10762,\n",
       " 10764,\n",
       " 10766,\n",
       " 10768,\n",
       " 10770,\n",
       " 10772,\n",
       " 10774,\n",
       " 10776,\n",
       " 10778,\n",
       " 10780,\n",
       " 10782,\n",
       " 10784,\n",
       " 10786,\n",
       " 10788,\n",
       " 10790,\n",
       " 10792,\n",
       " 10794,\n",
       " 10796,\n",
       " 10798,\n",
       " 10800,\n",
       " 10802,\n",
       " 10804,\n",
       " 10806,\n",
       " 10808,\n",
       " 10810,\n",
       " 10812,\n",
       " 10814,\n",
       " 10816,\n",
       " 10818,\n",
       " 10820,\n",
       " 10822,\n",
       " 10824,\n",
       " 10826,\n",
       " 10828,\n",
       " 10830,\n",
       " 10832,\n",
       " 10834,\n",
       " 10836,\n",
       " 10838,\n",
       " 10840,\n",
       " 10842,\n",
       " 10844,\n",
       " 10846,\n",
       " 10848,\n",
       " 10850,\n",
       " 10852,\n",
       " 10854,\n",
       " 10856,\n",
       " 10858,\n",
       " 10860,\n",
       " 10862,\n",
       " 10864,\n",
       " 10866,\n",
       " 10868,\n",
       " 10870,\n",
       " 10872,\n",
       " 10874,\n",
       " 10876,\n",
       " 10878,\n",
       " 10880,\n",
       " 10882,\n",
       " 10884,\n",
       " 10886,\n",
       " 10888,\n",
       " 10890,\n",
       " 10892,\n",
       " 10894,\n",
       " 10896,\n",
       " 10898,\n",
       " 10900,\n",
       " 10902,\n",
       " 10904,\n",
       " 10906,\n",
       " 10908,\n",
       " 10910,\n",
       " 10912,\n",
       " 10914,\n",
       " 10916,\n",
       " 10918,\n",
       " 10920,\n",
       " 10922,\n",
       " 10924,\n",
       " 10926,\n",
       " 10928,\n",
       " 10930,\n",
       " 10932,\n",
       " 10934,\n",
       " 10936,\n",
       " 10938,\n",
       " 10940,\n",
       " 10942,\n",
       " 10944,\n",
       " 10946,\n",
       " 10948,\n",
       " 10950,\n",
       " 10952,\n",
       " 10954,\n",
       " 10956,\n",
       " 10958,\n",
       " 10960,\n",
       " 10962,\n",
       " 10964,\n",
       " 10966,\n",
       " 10968,\n",
       " 10970,\n",
       " 10972,\n",
       " 10974,\n",
       " 10976,\n",
       " 10978,\n",
       " 10980,\n",
       " 10982,\n",
       " 10984,\n",
       " 10986,\n",
       " 10988,\n",
       " 10990,\n",
       " 10992,\n",
       " 10994,\n",
       " 10996,\n",
       " 10998,\n",
       " 11000,\n",
       " 11002,\n",
       " 11004,\n",
       " 11006,\n",
       " 11008,\n",
       " 11010,\n",
       " 11012,\n",
       " 11014,\n",
       " 11016,\n",
       " 11018,\n",
       " 11020,\n",
       " 11022,\n",
       " 11024,\n",
       " 11026,\n",
       " 11028,\n",
       " 11030,\n",
       " 11032,\n",
       " 11034,\n",
       " 11036,\n",
       " 11038,\n",
       " 11040,\n",
       " 11042,\n",
       " 11044,\n",
       " 11046,\n",
       " 11048,\n",
       " 11050,\n",
       " 11052,\n",
       " 11054,\n",
       " 11056,\n",
       " 11058,\n",
       " 11060,\n",
       " 11062,\n",
       " 11064,\n",
       " 11066,\n",
       " 11068,\n",
       " 11070,\n",
       " 11072,\n",
       " 11074,\n",
       " 11076,\n",
       " 11078,\n",
       " 11080,\n",
       " 11082,\n",
       " 11084,\n",
       " 11086,\n",
       " 11088,\n",
       " 11090,\n",
       " 11092,\n",
       " 11094,\n",
       " 11096,\n",
       " 11098,\n",
       " 11100,\n",
       " 11102,\n",
       " 11104,\n",
       " 11106,\n",
       " 11108,\n",
       " 11110,\n",
       " 11112,\n",
       " 11114,\n",
       " 11116,\n",
       " 11118,\n",
       " 11120,\n",
       " 11122,\n",
       " 11124,\n",
       " 11126,\n",
       " 11128,\n",
       " 11130,\n",
       " 11132,\n",
       " 11134,\n",
       " 11136,\n",
       " 11138,\n",
       " 11140,\n",
       " 11142,\n",
       " 11144,\n",
       " 11146,\n",
       " 11148,\n",
       " 11150,\n",
       " 11152,\n",
       " 11154,\n",
       " 11156,\n",
       " 11158,\n",
       " 11160,\n",
       " 11162,\n",
       " 11164,\n",
       " 11166,\n",
       " 11168,\n",
       " 11170,\n",
       " 11172,\n",
       " 11174,\n",
       " 11176,\n",
       " 11178,\n",
       " 11180,\n",
       " 11182,\n",
       " 11184,\n",
       " 11186,\n",
       " 11188,\n",
       " 11190,\n",
       " 11192,\n",
       " 11194,\n",
       " 11196,\n",
       " 11198,\n",
       " 11200,\n",
       " 11202,\n",
       " 11204,\n",
       " 11206,\n",
       " 11208,\n",
       " 11210,\n",
       " 11212,\n",
       " 11214,\n",
       " 11216,\n",
       " 11218,\n",
       " 11220,\n",
       " 11222,\n",
       " 11224,\n",
       " 11226,\n",
       " 11228,\n",
       " 11230,\n",
       " 11232,\n",
       " 11234,\n",
       " 11236,\n",
       " 11238,\n",
       " 11240,\n",
       " 11242,\n",
       " 11244,\n",
       " 11246,\n",
       " 11248,\n",
       " 11250,\n",
       " 11252,\n",
       " 11254,\n",
       " 11256,\n",
       " 11258,\n",
       " 11260,\n",
       " 11262,\n",
       " 11264,\n",
       " 11266,\n",
       " 11268,\n",
       " 11270,\n",
       " 11272,\n",
       " 11274,\n",
       " 11276,\n",
       " 11278,\n",
       " 11280,\n",
       " 11282,\n",
       " 11284,\n",
       " 11286,\n",
       " 11288,\n",
       " 11290,\n",
       " 11292,\n",
       " 11294,\n",
       " 11296,\n",
       " 11298,\n",
       " 11300,\n",
       " 11302,\n",
       " 11304,\n",
       " 11306,\n",
       " 11308,\n",
       " 11310,\n",
       " 11312,\n",
       " 11314,\n",
       " 11316,\n",
       " 11318,\n",
       " 11320,\n",
       " 11322,\n",
       " 11324,\n",
       " 11326,\n",
       " 11328,\n",
       " 11330,\n",
       " 11332,\n",
       " 11334,\n",
       " 11336,\n",
       " 11338,\n",
       " 11340,\n",
       " 11342,\n",
       " 11344,\n",
       " 11346,\n",
       " 11348,\n",
       " 11350,\n",
       " 11352,\n",
       " 11354,\n",
       " 11356,\n",
       " 11358,\n",
       " 11360,\n",
       " 11362,\n",
       " 11364,\n",
       " 11366,\n",
       " 11368,\n",
       " 11370,\n",
       " 11372,\n",
       " 11374,\n",
       " 11376,\n",
       " 11378,\n",
       " 11380,\n",
       " 11382,\n",
       " 11384,\n",
       " 11386,\n",
       " 11388,\n",
       " 11390,\n",
       " 11392,\n",
       " 11394,\n",
       " 11396,\n",
       " 11398,\n",
       " 11400,\n",
       " 11402,\n",
       " 11404,\n",
       " 11406,\n",
       " 11408,\n",
       " 11410,\n",
       " 11412,\n",
       " 11414,\n",
       " 11416,\n",
       " 11418,\n",
       " 11420,\n",
       " 11422,\n",
       " 11424,\n",
       " 11426,\n",
       " 11428,\n",
       " 11430,\n",
       " 11432,\n",
       " 11434,\n",
       " 11436,\n",
       " 11438,\n",
       " 11440,\n",
       " 11442,\n",
       " 11444,\n",
       " 11446,\n",
       " 11448,\n",
       " 11450,\n",
       " 11452,\n",
       " 11454,\n",
       " 11456,\n",
       " 11458,\n",
       " 11460,\n",
       " 11462,\n",
       " 11464,\n",
       " 11466,\n",
       " 11468,\n",
       " 11470,\n",
       " 11472,\n",
       " 11474,\n",
       " 11476,\n",
       " 11478,\n",
       " 11480,\n",
       " 11482,\n",
       " 11484,\n",
       " 11486,\n",
       " 11488,\n",
       " 11490,\n",
       " 11492,\n",
       " 11494,\n",
       " 11496,\n",
       " 11498,\n",
       " 11500,\n",
       " 11502,\n",
       " 11504,\n",
       " 11506,\n",
       " 11508,\n",
       " 11510,\n",
       " 11512,\n",
       " 11514,\n",
       " 11516,\n",
       " 11518,\n",
       " 11520,\n",
       " 11522,\n",
       " 11524,\n",
       " 11526,\n",
       " 11528,\n",
       " 11530,\n",
       " 11532,\n",
       " 11534,\n",
       " 11536,\n",
       " 11538,\n",
       " 11540,\n",
       " 11542,\n",
       " 11544,\n",
       " 11546,\n",
       " 11548,\n",
       " 11550,\n",
       " 11552,\n",
       " 11554,\n",
       " 11556,\n",
       " 11558,\n",
       " 11560,\n",
       " 11562,\n",
       " 11564,\n",
       " 11566,\n",
       " 11568,\n",
       " 11570,\n",
       " 11572,\n",
       " 11574,\n",
       " 11576,\n",
       " 11578,\n",
       " 11580,\n",
       " 11582,\n",
       " 11584,\n",
       " 11586,\n",
       " 11588,\n",
       " 11590,\n",
       " 11592,\n",
       " 11594,\n",
       " 11596,\n",
       " 11598,\n",
       " 11600,\n",
       " 11602,\n",
       " 11604,\n",
       " 11606,\n",
       " 11608,\n",
       " 11610,\n",
       " 11612,\n",
       " 11614,\n",
       " 11616,\n",
       " 11618,\n",
       " 11620,\n",
       " 11622,\n",
       " 11624,\n",
       " 11626,\n",
       " 11628,\n",
       " 11630,\n",
       " 11632,\n",
       " 11634,\n",
       " 11636,\n",
       " 11638,\n",
       " 11640,\n",
       " 11642,\n",
       " 11644,\n",
       " 11646,\n",
       " 11648,\n",
       " 11650,\n",
       " 11652,\n",
       " 11654,\n",
       " 11656,\n",
       " 11658,\n",
       " 11660,\n",
       " 11662,\n",
       " 11664,\n",
       " 11666,\n",
       " 11668,\n",
       " 11670,\n",
       " 11672,\n",
       " 11674,\n",
       " 11676,\n",
       " 11678,\n",
       " 11680,\n",
       " 11682,\n",
       " 11684,\n",
       " 11686,\n",
       " 11688,\n",
       " 11690,\n",
       " 11692,\n",
       " 11694,\n",
       " 11696,\n",
       " 11698,\n",
       " 11700,\n",
       " 11702,\n",
       " 11704,\n",
       " 11706,\n",
       " 11708,\n",
       " 11710,\n",
       " 11712,\n",
       " 11714,\n",
       " 11716,\n",
       " 11718,\n",
       " 11720,\n",
       " 11722,\n",
       " 11724,\n",
       " 11726,\n",
       " 11728,\n",
       " 11730,\n",
       " 11732,\n",
       " 11734,\n",
       " 11736,\n",
       " 11738,\n",
       " 11740,\n",
       " 11742,\n",
       " 11744,\n",
       " 11746,\n",
       " 11748,\n",
       " 11750,\n",
       " 11752,\n",
       " 11754,\n",
       " 11756,\n",
       " 11758,\n",
       " 11760,\n",
       " 11762,\n",
       " 11764,\n",
       " 11766,\n",
       " 11768,\n",
       " 11770,\n",
       " 11772,\n",
       " 11774,\n",
       " 11776,\n",
       " 11778,\n",
       " 11780,\n",
       " 11782,\n",
       " 11784,\n",
       " 11786,\n",
       " 11788,\n",
       " 11790,\n",
       " 11792,\n",
       " 11794,\n",
       " 11796,\n",
       " 11798,\n",
       " 11800,\n",
       " 11802,\n",
       " 11804,\n",
       " 11806,\n",
       " 11808,\n",
       " 11810,\n",
       " 11812,\n",
       " 11814,\n",
       " 11816,\n",
       " 11818,\n",
       " 11820,\n",
       " 11822,\n",
       " 11824,\n",
       " 11826,\n",
       " 11828,\n",
       " 11830,\n",
       " 11832,\n",
       " 11834,\n",
       " 11836,\n",
       " 11838,\n",
       " 11840,\n",
       " 11842,\n",
       " 11844,\n",
       " 11846,\n",
       " 11848,\n",
       " 11850,\n",
       " 11852,\n",
       " 11854,\n",
       " 11856,\n",
       " 11858,\n",
       " 11860,\n",
       " 11862,\n",
       " 11864,\n",
       " 11866,\n",
       " 11868,\n",
       " 11870,\n",
       " 11872,\n",
       " 11874,\n",
       " 11876,\n",
       " 11878,\n",
       " 11880,\n",
       " 11882,\n",
       " 11884,\n",
       " 11886,\n",
       " 11888,\n",
       " 11890,\n",
       " 11892,\n",
       " 11894,\n",
       " 11896,\n",
       " 11898,\n",
       " 11900,\n",
       " 11902,\n",
       " 11904,\n",
       " 11906,\n",
       " 11908,\n",
       " 11910,\n",
       " 11912,\n",
       " 11914,\n",
       " 11916,\n",
       " 11918,\n",
       " 11920,\n",
       " 11922,\n",
       " 11924,\n",
       " 11926,\n",
       " 11928,\n",
       " 11930,\n",
       " 11932,\n",
       " 11934,\n",
       " 11936,\n",
       " 11938,\n",
       " 11940,\n",
       " 11942,\n",
       " 11944,\n",
       " 11946,\n",
       " 11948,\n",
       " 11950,\n",
       " 11952,\n",
       " 11954,\n",
       " 11956,\n",
       " 11958,\n",
       " 11960,\n",
       " 11962,\n",
       " 11964,\n",
       " 11966,\n",
       " 11968,\n",
       " 11970,\n",
       " 11972,\n",
       " 11974,\n",
       " 11976,\n",
       " 11978,\n",
       " 11980,\n",
       " 11982,\n",
       " 11984,\n",
       " 11986,\n",
       " 11988,\n",
       " 11990,\n",
       " 11992,\n",
       " 11994,\n",
       " 11996,\n",
       " 11998,\n",
       " ...]"
      ]
     },
     "execution_count": 42,
     "metadata": {},
     "output_type": "execute_result"
    }
   ],
   "source": [
    "c=[(x+y) for x,y in zip(x,y)]\n",
    "c"
   ]
  },
  {
   "cell_type": "code",
   "execution_count": 43,
   "id": "00d900d9",
   "metadata": {},
   "outputs": [
    {
     "name": "stdout",
     "output_type": "stream",
     "text": [
      "0.7680439949035645\n"
     ]
    }
   ],
   "source": [
    "print(time.time()-start_time)"
   ]
  },
  {
   "cell_type": "code",
   "execution_count": 44,
   "id": "902cff02",
   "metadata": {},
   "outputs": [],
   "source": [
    "a=np.arange(100000)\n",
    "b=np.arange(100000,200000)"
   ]
  },
  {
   "cell_type": "code",
   "execution_count": 45,
   "id": "cac7c1bb",
   "metadata": {},
   "outputs": [
    {
     "name": "stdout",
     "output_type": "stream",
     "text": [
      "0.0010263919830322266\n"
     ]
    }
   ],
   "source": [
    "start_time=time.time()\n",
    "c=a+b\n",
    "\n",
    "print(time.time()-start_time)"
   ]
  },
  {
   "cell_type": "code",
   "execution_count": 46,
   "id": "d0ee9840",
   "metadata": {},
   "outputs": [
    {
     "data": {
      "text/plain": [
       "array([[ 0,  1,  2,  3],\n",
       "       [ 4,  5,  6,  7],\n",
       "       [ 8,  9, 10, 11],\n",
       "       [12, 13, 14, 15],\n",
       "       [16, 17, 18, 19],\n",
       "       [20, 21, 22, 23]])"
      ]
     },
     "execution_count": 46,
     "metadata": {},
     "output_type": "execute_result"
    }
   ],
   "source": [
    "arr12=np.arange(24).reshape(6,4)\n",
    "arr12"
   ]
  },
  {
   "cell_type": "code",
   "execution_count": 47,
   "id": "d177ffa9",
   "metadata": {},
   "outputs": [
    {
     "data": {
      "text/plain": [
       "array([ 8,  9, 10, 11])"
      ]
     },
     "execution_count": 47,
     "metadata": {},
     "output_type": "execute_result"
    }
   ],
   "source": [
    "arr12[2]"
   ]
  },
  {
   "cell_type": "code",
   "execution_count": 48,
   "id": "4e4c59e9",
   "metadata": {},
   "outputs": [
    {
     "data": {
      "text/plain": [
       "array([20, 21, 22, 23])"
      ]
     },
     "execution_count": 48,
     "metadata": {},
     "output_type": "execute_result"
    }
   ],
   "source": [
    "arr12[-1]"
   ]
  },
  {
   "cell_type": "code",
   "execution_count": 49,
   "id": "5ce04dcc",
   "metadata": {},
   "outputs": [
    {
     "data": {
      "text/plain": [
       "array([ 2,  6, 10, 14, 18, 22])"
      ]
     },
     "execution_count": 49,
     "metadata": {},
     "output_type": "execute_result"
    }
   ],
   "source": [
    "arr12[:,2]"
   ]
  },
  {
   "cell_type": "code",
   "execution_count": 50,
   "id": "934d0cd1",
   "metadata": {},
   "outputs": [
    {
     "data": {
      "text/plain": [
       "array([[ 1,  2],\n",
       "       [ 5,  6],\n",
       "       [ 9, 10],\n",
       "       [13, 14],\n",
       "       [17, 18],\n",
       "       [21, 22]])"
      ]
     },
     "execution_count": 50,
     "metadata": {},
     "output_type": "execute_result"
    }
   ],
   "source": [
    "arr12[:,1:3]"
   ]
  },
  {
   "cell_type": "code",
   "execution_count": 51,
   "id": "5c6ad7b2",
   "metadata": {},
   "outputs": [
    {
     "data": {
      "text/plain": [
       "array([[ 9, 10],\n",
       "       [13, 14]])"
      ]
     },
     "execution_count": 51,
     "metadata": {},
     "output_type": "execute_result"
    }
   ],
   "source": [
    "arr12[2:4,1:3]"
   ]
  },
  {
   "cell_type": "code",
   "execution_count": 52,
   "id": "7f60ffe0",
   "metadata": {},
   "outputs": [
    {
     "data": {
      "text/plain": [
       "array([[18, 19],\n",
       "       [22, 23]])"
      ]
     },
     "execution_count": 52,
     "metadata": {},
     "output_type": "execute_result"
    }
   ],
   "source": [
    "arr12[4:6,2:4]"
   ]
  },
  {
   "cell_type": "code",
   "execution_count": 53,
   "id": "87467ebb",
   "metadata": {},
   "outputs": [
    {
     "name": "stdout",
     "output_type": "stream",
     "text": [
      "0 1 2 3 4 5 6 7 8 9 10 11 12 13 14 15 16 17 18 19 20 21 22 23 "
     ]
    }
   ],
   "source": [
    "# iteration\n",
    "for i in np.nditer(arr12):\n",
    "    print(i,end=' ')"
   ]
  },
  {
   "cell_type": "code",
   "execution_count": 54,
   "id": "ded1c0b8",
   "metadata": {},
   "outputs": [],
   "source": [
    "#numpy operations\n",
    "arrr1=np.array([1,2,3,4,5,6])\n",
    "arrr2=np.array([4,5,6,7,8,9])"
   ]
  },
  {
   "cell_type": "code",
   "execution_count": 55,
   "id": "cd813a2d",
   "metadata": {},
   "outputs": [
    {
     "data": {
      "text/plain": [
       "array([-3, -3, -3, -3, -3, -3])"
      ]
     },
     "execution_count": 55,
     "metadata": {},
     "output_type": "execute_result"
    }
   ],
   "source": [
    "arrr1-arrr2"
   ]
  },
  {
   "cell_type": "code",
   "execution_count": 56,
   "id": "d385c0c1",
   "metadata": {},
   "outputs": [
    {
     "data": {
      "text/plain": [
       "array([ 4, 10, 18, 28, 40, 54])"
      ]
     },
     "execution_count": 56,
     "metadata": {},
     "output_type": "execute_result"
    }
   ],
   "source": [
    "arrr1*arrr2"
   ]
  },
  {
   "cell_type": "code",
   "execution_count": 57,
   "id": "7c49fa6d",
   "metadata": {},
   "outputs": [
    {
     "data": {
      "text/plain": [
       "array([0.25      , 0.4       , 0.5       , 0.57142857, 0.625     ,\n",
       "       0.66666667])"
      ]
     },
     "execution_count": 57,
     "metadata": {},
     "output_type": "execute_result"
    }
   ],
   "source": [
    "arrr1/arrr2"
   ]
  },
  {
   "cell_type": "code",
   "execution_count": 58,
   "id": "08c1302b",
   "metadata": {},
   "outputs": [
    {
     "data": {
      "text/plain": [
       "array([ 5,  7,  9, 11, 13, 15])"
      ]
     },
     "execution_count": 58,
     "metadata": {},
     "output_type": "execute_result"
    }
   ],
   "source": [
    "arrr1+arrr2"
   ]
  },
  {
   "cell_type": "code",
   "execution_count": 59,
   "id": "fa7ceecb",
   "metadata": {},
   "outputs": [
    {
     "data": {
      "text/plain": [
       "array([10, 20, 30, 40, 50, 60])"
      ]
     },
     "execution_count": 59,
     "metadata": {},
     "output_type": "execute_result"
    }
   ],
   "source": [
    "arrr1*10"
   ]
  },
  {
   "cell_type": "code",
   "execution_count": 60,
   "id": "c73c9d59",
   "metadata": {},
   "outputs": [
    {
     "data": {
      "text/plain": [
       "array([40, 50, 60, 70, 80, 90])"
      ]
     },
     "execution_count": 60,
     "metadata": {},
     "output_type": "execute_result"
    }
   ],
   "source": [
    "arrr2*10"
   ]
  },
  {
   "cell_type": "code",
   "execution_count": 61,
   "id": "0def48a7",
   "metadata": {},
   "outputs": [
    {
     "data": {
      "text/plain": [
       "array([ 0.84147098,  0.90929743,  0.14112001, -0.7568025 , -0.95892427,\n",
       "       -0.2794155 ])"
      ]
     },
     "execution_count": 61,
     "metadata": {},
     "output_type": "execute_result"
    }
   ],
   "source": [
    "np.sin(arrr1)"
   ]
  },
  {
   "cell_type": "code",
   "execution_count": 62,
   "id": "2e48dfca",
   "metadata": {},
   "outputs": [
    {
     "data": {
      "text/plain": [
       "3.5"
      ]
     },
     "execution_count": 62,
     "metadata": {},
     "output_type": "execute_result"
    }
   ],
   "source": [
    "np.median(arrr1)"
   ]
  },
  {
   "cell_type": "code",
   "execution_count": 64,
   "id": "eaf71fd1",
   "metadata": {},
   "outputs": [
    {
     "data": {
      "text/plain": [
       "array([ 0.54030231, -0.41614684, -0.9899925 , -0.65364362,  0.28366219,\n",
       "        0.96017029])"
      ]
     },
     "execution_count": 64,
     "metadata": {},
     "output_type": "execute_result"
    }
   ],
   "source": [
    "np.cos(arrr1)"
   ]
  },
  {
   "cell_type": "code",
   "execution_count": 68,
   "id": "7f475f9b",
   "metadata": {},
   "outputs": [
    {
     "data": {
      "text/plain": [
       "array([ 1.55740772, -2.18503986, -0.14254654,  1.15782128, -3.38051501,\n",
       "       -0.29100619])"
      ]
     },
     "execution_count": 68,
     "metadata": {},
     "output_type": "execute_result"
    }
   ],
   "source": [
    "np.tan(arrr1)"
   ]
  },
  {
   "cell_type": "code",
   "execution_count": null,
   "id": "da9cba68",
   "metadata": {},
   "outputs": [],
   "source": []
  },
  {
   "cell_type": "code",
   "execution_count": 69,
   "id": "49ba8488",
   "metadata": {},
   "outputs": [
    {
     "data": {
      "text/plain": [
       "1.707825127659933"
      ]
     },
     "execution_count": 69,
     "metadata": {},
     "output_type": "execute_result"
    }
   ],
   "source": [
    "arrr1.std()"
   ]
  },
  {
   "cell_type": "code",
   "execution_count": 62,
   "id": "15680dfb",
   "metadata": {},
   "outputs": [
    {
     "data": {
      "text/plain": [
       "array([  2.71828183,   7.3890561 ,  20.08553692,  54.59815003,\n",
       "       148.4131591 , 403.42879349])"
      ]
     },
     "execution_count": 62,
     "metadata": {},
     "output_type": "execute_result"
    }
   ],
   "source": [
    "np.exp(arrr1)"
   ]
  },
  {
   "cell_type": "code",
   "execution_count": 63,
   "id": "00dc11a7",
   "metadata": {},
   "outputs": [
    {
     "data": {
      "text/plain": [
       "array([1.        , 1.41421356, 1.73205081, 2.        , 2.23606798,\n",
       "       2.44948974])"
      ]
     },
     "execution_count": 63,
     "metadata": {},
     "output_type": "execute_result"
    }
   ],
   "source": [
    "np.sqrt(arrr1)"
   ]
  },
  {
   "cell_type": "markdown",
   "id": "56b69c72",
   "metadata": {},
   "source": [
    "# Reshaping Numpy Array\n",
    "1.Ravel\n",
    "2.Reshape\n",
    "3. Transpose\n",
    "4.Stacking\n",
    "5.Splitting"
   ]
  },
  {
   "cell_type": "code",
   "execution_count": 64,
   "id": "7daf5000",
   "metadata": {},
   "outputs": [
    {
     "data": {
      "text/plain": [
       "array([1, 2, 3, 4, 5, 6])"
      ]
     },
     "execution_count": 64,
     "metadata": {},
     "output_type": "execute_result"
    }
   ],
   "source": [
    "arrr1"
   ]
  },
  {
   "cell_type": "code",
   "execution_count": 65,
   "id": "d5b0c134",
   "metadata": {},
   "outputs": [
    {
     "data": {
      "text/plain": [
       "array([1, 2, 3, 4, 5, 6])"
      ]
     },
     "execution_count": 65,
     "metadata": {},
     "output_type": "execute_result"
    }
   ],
   "source": [
    "arrr1.ravel()"
   ]
  },
  {
   "cell_type": "code",
   "execution_count": 66,
   "id": "f795839a",
   "metadata": {},
   "outputs": [
    {
     "data": {
      "text/plain": [
       "array([4, 5, 6, 7, 8, 9])"
      ]
     },
     "execution_count": 66,
     "metadata": {},
     "output_type": "execute_result"
    }
   ],
   "source": [
    "arrr2.transpose()"
   ]
  },
  {
   "cell_type": "code",
   "execution_count": 67,
   "id": "37e0401d",
   "metadata": {},
   "outputs": [
    {
     "data": {
      "text/plain": [
       "array([4, 5, 6, 7, 8, 9])"
      ]
     },
     "execution_count": 67,
     "metadata": {},
     "output_type": "execute_result"
    }
   ],
   "source": [
    "np.transpose(arrr2)"
   ]
  },
  {
   "cell_type": "code",
   "execution_count": null,
   "id": "872fc078",
   "metadata": {},
   "outputs": [],
   "source": []
  },
  {
   "cell_type": "code",
   "execution_count": 68,
   "id": "3edea30c",
   "metadata": {},
   "outputs": [],
   "source": [
    "arrr3=np.arange(12,18).reshape(2,3)"
   ]
  },
  {
   "cell_type": "code",
   "execution_count": 69,
   "id": "06bfa95f",
   "metadata": {},
   "outputs": [
    {
     "data": {
      "text/plain": [
       "array([[12, 13, 14],\n",
       "       [15, 16, 17]])"
      ]
     },
     "execution_count": 69,
     "metadata": {},
     "output_type": "execute_result"
    }
   ],
   "source": [
    "arrr3"
   ]
  },
  {
   "cell_type": "code",
   "execution_count": 70,
   "id": "c191395c",
   "metadata": {},
   "outputs": [],
   "source": [
    "import numpy as np"
   ]
  },
  {
   "cell_type": "code",
   "execution_count": 71,
   "id": "df226692",
   "metadata": {},
   "outputs": [],
   "source": [
    "arrr4=np.arange(24).reshape(3,4,2)"
   ]
  },
  {
   "cell_type": "code",
   "execution_count": 72,
   "id": "839a19b7",
   "metadata": {},
   "outputs": [
    {
     "data": {
      "text/plain": [
       "array([[[ 0,  1],\n",
       "        [ 2,  3],\n",
       "        [ 4,  5],\n",
       "        [ 6,  7]],\n",
       "\n",
       "       [[ 8,  9],\n",
       "        [10, 11],\n",
       "        [12, 13],\n",
       "        [14, 15]],\n",
       "\n",
       "       [[16, 17],\n",
       "        [18, 19],\n",
       "        [20, 21],\n",
       "        [22, 23]]])"
      ]
     },
     "execution_count": 72,
     "metadata": {},
     "output_type": "execute_result"
    }
   ],
   "source": [
    "arrr4"
   ]
  },
  {
   "cell_type": "code",
   "execution_count": 73,
   "id": "d0a33a83",
   "metadata": {},
   "outputs": [
    {
     "data": {
      "text/plain": [
       "array([[[ 0,  1,  2],\n",
       "        [ 3,  4,  5]],\n",
       "\n",
       "       [[ 6,  7,  8],\n",
       "        [ 9, 10, 11]],\n",
       "\n",
       "       [[12, 13, 14],\n",
       "        [15, 16, 17]],\n",
       "\n",
       "       [[18, 19, 20],\n",
       "        [21, 22, 23]]])"
      ]
     },
     "execution_count": 73,
     "metadata": {},
     "output_type": "execute_result"
    }
   ],
   "source": [
    "arrr5=arrr4.reshape(4,2,3)\n",
    "arrr5"
   ]
  },
  {
   "cell_type": "code",
   "execution_count": 74,
   "id": "1a98add8",
   "metadata": {},
   "outputs": [
    {
     "data": {
      "text/plain": [
       "array([ 0,  1,  2,  3,  4,  5,  6,  7,  8,  9, 10, 11, 12, 13, 14, 15, 16,\n",
       "       17, 18, 19, 20, 21, 22, 23])"
      ]
     },
     "execution_count": 74,
     "metadata": {},
     "output_type": "execute_result"
    }
   ],
   "source": [
    "arrr5.flatten()"
   ]
  },
  {
   "cell_type": "code",
   "execution_count": 75,
   "id": "6875b62a",
   "metadata": {},
   "outputs": [
    {
     "data": {
      "text/plain": [
       "array([ 0,  1,  2,  3,  4,  5,  6,  7,  8,  9, 10, 11, 12, 13, 14, 15, 16,\n",
       "       17, 18, 19, 20, 21, 22, 23])"
      ]
     },
     "execution_count": 75,
     "metadata": {},
     "output_type": "execute_result"
    }
   ],
   "source": [
    "arrr4.ravel()"
   ]
  },
  {
   "cell_type": "markdown",
   "id": "23dfcdb5",
   "metadata": {},
   "source": [
    "# Indexing with Boolean Arrays"
   ]
  },
  {
   "cell_type": "code",
   "execution_count": 76,
   "id": "85020263",
   "metadata": {},
   "outputs": [],
   "source": [
    "import numpy as np"
   ]
  },
  {
   "cell_type": "code",
   "execution_count": 77,
   "id": "bb32954e",
   "metadata": {},
   "outputs": [
    {
     "data": {
      "text/plain": [
       "array([[3, 3, 4, 1, 2],\n",
       "       [1, 1, 3, 3, 4],\n",
       "       [4, 4, 4, 3, 3],\n",
       "       [4, 4, 2, 3, 3]])"
      ]
     },
     "execution_count": 77,
     "metadata": {},
     "output_type": "execute_result"
    }
   ],
   "source": [
    "arr=np.random.randint(low=1,high=5,size=20).reshape(4,5)\n",
    "arr"
   ]
  },
  {
   "cell_type": "code",
   "execution_count": 78,
   "id": "b305c9e7",
   "metadata": {},
   "outputs": [
    {
     "data": {
      "text/plain": [
       "array([[False, False,  True, False, False],\n",
       "       [ True, False, False, False,  True],\n",
       "       [False, False,  True,  True, False],\n",
       "       [False, False, False,  True,  True],\n",
       "       [False,  True, False,  True, False]])"
      ]
     },
     "execution_count": 78,
     "metadata": {},
     "output_type": "execute_result"
    }
   ],
   "source": [
    "np.random.randint(low=0,high=10,size=25).reshape(5,5)>5"
   ]
  },
  {
   "cell_type": "code",
   "execution_count": null,
   "id": "50c4917a",
   "metadata": {},
   "outputs": [],
   "source": []
  },
  {
   "cell_type": "code",
   "execution_count": null,
   "id": "2e31edeb",
   "metadata": {},
   "outputs": [],
   "source": []
  },
  {
   "cell_type": "code",
   "execution_count": 79,
   "id": "7b1ffd66",
   "metadata": {},
   "outputs": [
    {
     "data": {
      "text/plain": [
       "array([[False, False, False, False, False],\n",
       "       [False, False, False, False, False],\n",
       "       [False, False, False, False, False],\n",
       "       [False, False, False, False, False]])"
      ]
     },
     "execution_count": 79,
     "metadata": {},
     "output_type": "execute_result"
    }
   ],
   "source": [
    "arr>50"
   ]
  },
  {
   "cell_type": "code",
   "execution_count": 80,
   "id": "d4174b8f",
   "metadata": {},
   "outputs": [],
   "source": [
    "arr[(arr>50) & (arr%2!=0)]=0"
   ]
  },
  {
   "cell_type": "code",
   "execution_count": 81,
   "id": "7aa95525",
   "metadata": {},
   "outputs": [
    {
     "data": {
      "text/plain": [
       "array([[3, 3, 4, 1, 2],\n",
       "       [1, 1, 3, 3, 4],\n",
       "       [4, 4, 4, 3, 3],\n",
       "       [4, 4, 2, 3, 3]])"
      ]
     },
     "execution_count": 81,
     "metadata": {},
     "output_type": "execute_result"
    }
   ],
   "source": [
    "arr"
   ]
  },
  {
   "cell_type": "code",
   "execution_count": 82,
   "id": "077dd5c1",
   "metadata": {},
   "outputs": [
    {
     "data": {
      "text/plain": [
       "array([-40.        , -31.11111111, -22.22222222, -13.33333333,\n",
       "        -4.44444444,   4.44444444,  13.33333333,  22.22222222,\n",
       "        31.11111111,  40.        ])"
      ]
     },
     "execution_count": 82,
     "metadata": {},
     "output_type": "execute_result"
    }
   ],
   "source": [
    "x=np.linspace(-40,40,10)\n",
    "x"
   ]
  },
  {
   "cell_type": "code",
   "execution_count": 83,
   "id": "479f09da",
   "metadata": {},
   "outputs": [
    {
     "data": {
      "text/plain": [
       "10"
      ]
     },
     "execution_count": 83,
     "metadata": {},
     "output_type": "execute_result"
    }
   ],
   "source": [
    "x.size"
   ]
  },
  {
   "cell_type": "code",
   "execution_count": 84,
   "id": "01cd3d64",
   "metadata": {},
   "outputs": [],
   "source": [
    "y=np.sin(x)"
   ]
  },
  {
   "cell_type": "code",
   "execution_count": 85,
   "id": "a9ca94d1",
   "metadata": {},
   "outputs": [
    {
     "data": {
      "text/plain": [
       "10"
      ]
     },
     "execution_count": 85,
     "metadata": {},
     "output_type": "execute_result"
    }
   ],
   "source": [
    "y.size"
   ]
  },
  {
   "cell_type": "code",
   "execution_count": 86,
   "id": "003c77a8",
   "metadata": {},
   "outputs": [],
   "source": [
    "import matplotlib.pyplot as plt\n",
    "%matplotlib inline"
   ]
  },
  {
   "cell_type": "code",
   "execution_count": null,
   "id": "e1cc7cbb",
   "metadata": {},
   "outputs": [],
   "source": [
    "plt.plot(x,y)"
   ]
  },
  {
   "cell_type": "code",
   "execution_count": null,
   "id": "178c7f37",
   "metadata": {},
   "outputs": [],
   "source": [
    "y=x*x+2*x+6"
   ]
  },
  {
   "cell_type": "code",
   "execution_count": null,
   "id": "83ddaae8",
   "metadata": {},
   "outputs": [],
   "source": [
    "plt.plot(x,y)"
   ]
  },
  {
   "cell_type": "code",
   "execution_count": null,
   "id": "fe21b0c6",
   "metadata": {},
   "outputs": [],
   "source": [
    "a=np.random.rand(4,3)   # random function is output is the uniform distribution range(0-1),avgg,mean anything\n",
    "a"
   ]
  },
  {
   "cell_type": "code",
   "execution_count": null,
   "id": "a363f432",
   "metadata": {},
   "outputs": [],
   "source": [
    "b=np.random.randn(2,3,3) # std normal distribution mean =0 and standard deviation=1\n",
    "b"
   ]
  },
  {
   "cell_type": "code",
   "execution_count": 92,
   "id": "8ec8a9c3",
   "metadata": {},
   "outputs": [
    {
     "ename": "ValueError",
     "evalue": "low >= high",
     "output_type": "error",
     "traceback": [
      "\u001b[1;31m---------------------------------------------------------------------------\u001b[0m",
      "\u001b[1;31mValueError\u001b[0m                                Traceback (most recent call last)",
      "\u001b[1;32m~\\AppData\\Local\\Temp\\ipykernel_6812\\430058576.py\u001b[0m in \u001b[0;36m<module>\u001b[1;34m\u001b[0m\n\u001b[1;32m----> 1\u001b[1;33m \u001b[0mc\u001b[0m\u001b[1;33m=\u001b[0m\u001b[0mnp\u001b[0m\u001b[1;33m.\u001b[0m\u001b[0mrandom\u001b[0m\u001b[1;33m.\u001b[0m\u001b[0mrandint\u001b[0m\u001b[1;33m(\u001b[0m\u001b[1;36m3\u001b[0m\u001b[1;33m,\u001b[0m\u001b[1;36m3\u001b[0m\u001b[1;33m)\u001b[0m\u001b[1;33m\u001b[0m\u001b[1;33m\u001b[0m\u001b[0m\n\u001b[0m\u001b[0;32m      2\u001b[0m \u001b[0mc\u001b[0m\u001b[1;33m\u001b[0m\u001b[1;33m\u001b[0m\u001b[0m\n",
      "\u001b[1;32mmtrand.pyx\u001b[0m in \u001b[0;36mnumpy.random.mtrand.RandomState.randint\u001b[1;34m()\u001b[0m\n",
      "\u001b[1;32m_bounded_integers.pyx\u001b[0m in \u001b[0;36mnumpy.random._bounded_integers._rand_int32\u001b[1;34m()\u001b[0m\n",
      "\u001b[1;31mValueError\u001b[0m: low >= high"
     ]
    }
   ],
   "source": [
    "c=np.random.randint(3,3)\n",
    "c"
   ]
  },
  {
   "cell_type": "code",
   "execution_count": 101,
   "id": "731cf23f",
   "metadata": {},
   "outputs": [
    {
     "data": {
      "text/plain": [
       "matrix([[-1.34756687,  1.52067745],\n",
       "        [ 0.61008921, -0.31907141]])"
      ]
     },
     "execution_count": 101,
     "metadata": {},
     "output_type": "execute_result"
    }
   ],
   "source": [
    "x=np.mat(np.random.randn(2,2))\n",
    "x"
   ]
  },
  {
   "cell_type": "code",
   "execution_count": 102,
   "id": "7116fc08",
   "metadata": {},
   "outputs": [
    {
     "data": {
      "text/plain": [
       "matrix([[-0.33709182, -1.14069636],\n",
       "        [-2.2266307 ,  0.41955647]])"
      ]
     },
     "execution_count": 102,
     "metadata": {},
     "output_type": "execute_result"
    }
   ],
   "source": [
    "y=np.mat(np.random.randn(2,2))\n",
    "y"
   ]
  },
  {
   "cell_type": "code",
   "execution_count": 105,
   "id": "995ef667",
   "metadata": {},
   "outputs": [
    {
     "data": {
      "text/plain": [
       "matrix([[-0.67418365, -2.28139272],\n",
       "        [-4.45326141,  0.83911295]])"
      ]
     },
     "execution_count": 105,
     "metadata": {},
     "output_type": "execute_result"
    }
   ],
   "source": [
    "z=x+y\n",
    "z"
   ]
  },
  {
   "cell_type": "code",
   "execution_count": 107,
   "id": "7adf2a04",
   "metadata": {},
   "outputs": [
    {
     "data": {
      "text/plain": [
       "matrix([[0., 0.],\n",
       "        [0., 0.]])"
      ]
     },
     "execution_count": 107,
     "metadata": {},
     "output_type": "execute_result"
    }
   ],
   "source": [
    "a=x-y\n",
    "a"
   ]
  },
  {
   "cell_type": "code",
   "execution_count": 108,
   "id": "894d9545",
   "metadata": {},
   "outputs": [
    {
     "data": {
      "text/plain": [
       "matrix([[ 2.65354044, -0.09406713],\n",
       "        [-0.18361832,  2.71593718]])"
      ]
     },
     "execution_count": 108,
     "metadata": {},
     "output_type": "execute_result"
    }
   ],
   "source": [
    "q=x*y\n",
    "q"
   ]
  },
  {
   "cell_type": "code",
   "execution_count": null,
   "id": "e1fc6b7e",
   "metadata": {},
   "outputs": [],
   "source": []
  }
 ],
 "metadata": {
  "kernelspec": {
   "display_name": "Python 3 (ipykernel)",
   "language": "python",
   "name": "python3"
  },
  "language_info": {
   "codemirror_mode": {
    "name": "ipython",
    "version": 3
   },
   "file_extension": ".py",
   "mimetype": "text/x-python",
   "name": "python",
   "nbconvert_exporter": "python",
   "pygments_lexer": "ipython3",
   "version": "3.9.13"
  }
 },
 "nbformat": 4,
 "nbformat_minor": 5
}
