{
 "cells": [
  {
   "cell_type": "code",
   "execution_count": 1,
   "id": "0e914a5f",
   "metadata": {},
   "outputs": [],
   "source": [
    "import numpy as np"
   ]
  },
  {
   "cell_type": "code",
   "execution_count": 2,
   "id": "81d8f4c5",
   "metadata": {},
   "outputs": [
    {
     "data": {
      "text/plain": [
       "numpy.ndarray"
      ]
     },
     "execution_count": 2,
     "metadata": {},
     "output_type": "execute_result"
    }
   ],
   "source": [
    "type(np.array(['asd',1,2]))"
   ]
  },
  {
   "cell_type": "code",
   "execution_count": 3,
   "id": "6f4461f4",
   "metadata": {},
   "outputs": [
    {
     "data": {
      "text/plain": [
       "numpy.ndarray"
      ]
     },
     "execution_count": 3,
     "metadata": {},
     "output_type": "execute_result"
    }
   ],
   "source": [
    "# upcasting\n",
    "npp=np.array([1,2,3.0])\n",
    "type(npp)"
   ]
  },
  {
   "cell_type": "code",
   "execution_count": 4,
   "id": "125332df",
   "metadata": {},
   "outputs": [
    {
     "data": {
      "text/plain": [
       "array([[[[[1, 2],\n",
       "          [3, 4]]]]])"
      ]
     },
     "execution_count": 4,
     "metadata": {},
     "output_type": "execute_result"
    }
   ],
   "source": [
    "# two dimensions\n",
    "np.array([[1,2],[3,4]],ndmin=5)"
   ]
  },
  {
   "cell_type": "code",
   "execution_count": 5,
   "id": "91d4d097",
   "metadata": {},
   "outputs": [
    {
     "data": {
      "text/plain": [
       "array([2, 3])"
      ]
     },
     "execution_count": 5,
     "metadata": {},
     "output_type": "execute_result"
    }
   ],
   "source": [
    "np.array((2,3))"
   ]
  },
  {
   "cell_type": "code",
   "execution_count": 6,
   "id": "e234f4bd",
   "metadata": {},
   "outputs": [],
   "source": [
    "## Minimum Dimensions 2"
   ]
  },
  {
   "cell_type": "code",
   "execution_count": 21,
   "id": "d40e7f09",
   "metadata": {},
   "outputs": [
    {
     "data": {
      "text/plain": [
       "array([[[[[[[[[[1, 2, 3, 4]]]]]]]]]])"
      ]
     },
     "execution_count": 21,
     "metadata": {},
     "output_type": "execute_result"
    }
   ],
   "source": [
    "np.array([1,2,3,4],ndmin=10)"
   ]
  },
  {
   "cell_type": "code",
   "execution_count": 22,
   "id": "dc65aea2",
   "metadata": {},
   "outputs": [],
   "source": [
    "### dtype"
   ]
  },
  {
   "cell_type": "code",
   "execution_count": 23,
   "id": "7c445ea8",
   "metadata": {},
   "outputs": [
    {
     "data": {
      "text/plain": [
       "array([1.+0.j, 2.+0.j, 3.+0.j, 4.+0.j])"
      ]
     },
     "execution_count": 23,
     "metadata": {},
     "output_type": "execute_result"
    }
   ],
   "source": [
    "np.array([1,2,3,4],dtype=complex)"
   ]
  },
  {
   "cell_type": "code",
   "execution_count": 24,
   "id": "88614b0d",
   "metadata": {},
   "outputs": [
    {
     "data": {
      "text/plain": [
       "matrix([[1, 2],\n",
       "        [4, 7]])"
      ]
     },
     "execution_count": 24,
     "metadata": {},
     "output_type": "execute_result"
    }
   ],
   "source": [
    "## Creating an array from sub-class\n",
    "m1=np.mat(np.array([[1,2],[4,7]]))\n",
    "m1"
   ]
  },
  {
   "cell_type": "code",
   "execution_count": 25,
   "id": "88da83c2",
   "metadata": {},
   "outputs": [
    {
     "data": {
      "text/plain": [
       "matrix([[1, 2],\n",
       "        [4, 5]])"
      ]
     },
     "execution_count": 25,
     "metadata": {},
     "output_type": "execute_result"
    }
   ],
   "source": [
    "m2=np.mat('1,2;4,5')\n",
    "m2"
   ]
  },
  {
   "cell_type": "code",
   "execution_count": 26,
   "id": "dc90c120",
   "metadata": {},
   "outputs": [
    {
     "data": {
      "text/plain": [
       "matrix([[ 2,  4],\n",
       "        [ 8, 12]])"
      ]
     },
     "execution_count": 26,
     "metadata": {},
     "output_type": "execute_result"
    }
   ],
   "source": [
    "m3=m1+m2\n",
    "m3"
   ]
  },
  {
   "cell_type": "code",
   "execution_count": 27,
   "id": "9b3b82ac",
   "metadata": {},
   "outputs": [
    {
     "data": {
      "text/plain": [
       "matrix([[ 8, 12]])"
      ]
     },
     "execution_count": 27,
     "metadata": {},
     "output_type": "execute_result"
    }
   ],
   "source": [
    "m3[1]"
   ]
  },
  {
   "cell_type": "markdown",
   "id": "e1868473",
   "metadata": {},
   "source": [
    "# numpy.asarray"
   ]
  },
  {
   "cell_type": "code",
   "execution_count": 28,
   "id": "0f59b9d8",
   "metadata": {},
   "outputs": [],
   "source": [
    "## convert the input to on array\n",
    "## convert a list into an array"
   ]
  },
  {
   "cell_type": "code",
   "execution_count": 29,
   "id": "e4202131",
   "metadata": {},
   "outputs": [
    {
     "data": {
      "text/plain": [
       "array([1, 2, 3, 4, 5])"
      ]
     },
     "execution_count": 29,
     "metadata": {},
     "output_type": "execute_result"
    }
   ],
   "source": [
    "np.array([1,2,3,4,5])"
   ]
  },
  {
   "cell_type": "code",
   "execution_count": 30,
   "id": "2027e46c",
   "metadata": {},
   "outputs": [
    {
     "data": {
      "text/plain": [
       "array([1, 2, 3, 4, 5])"
      ]
     },
     "execution_count": 30,
     "metadata": {},
     "output_type": "execute_result"
    }
   ],
   "source": [
    "np.asarray([1,2,3,4,5])"
   ]
  },
  {
   "cell_type": "code",
   "execution_count": 31,
   "id": "e07b2fa1",
   "metadata": {},
   "outputs": [
    {
     "data": {
      "text/plain": [
       "array([1, 2])"
      ]
     },
     "execution_count": 31,
     "metadata": {},
     "output_type": "execute_result"
    }
   ],
   "source": [
    "np.asarray((1,2))"
   ]
  },
  {
   "cell_type": "markdown",
   "id": "0eaded7e",
   "metadata": {},
   "source": [
    "# difference between Deep copy and sawlow copy"
   ]
  },
  {
   "cell_type": "raw",
   "id": "561e853f",
   "metadata": {},
   "source": [
    "> In case of Deep copy is entire data is copy to one location to another location,independed to each other.\n",
    "> In case of shallow copy data copy one variable to another variable vis-varsa memory location is same\n",
    ",depended to each other"
   ]
  },
  {
   "cell_type": "markdown",
   "id": "a58863f2",
   "metadata": {},
   "source": [
    "# numpy.fromfunction"
   ]
  },
  {
   "cell_type": "code",
   "execution_count": 32,
   "id": "9e7e16e0",
   "metadata": {},
   "outputs": [],
   "source": [
    "# construct an array by executing a function over each coordinate."
   ]
  },
  {
   "cell_type": "code",
   "execution_count": 33,
   "id": "2f0c4ce7",
   "metadata": {},
   "outputs": [
    {
     "data": {
      "text/plain": [
       "array([[ True, False, False],\n",
       "       [False,  True, False],\n",
       "       [False, False,  True]])"
      ]
     },
     "execution_count": 33,
     "metadata": {},
     "output_type": "execute_result"
    }
   ],
   "source": [
    "np.fromfunction(lambda i,j:i==j,(3,3),dtype=int)"
   ]
  },
  {
   "cell_type": "code",
   "execution_count": 34,
   "id": "4abd85de",
   "metadata": {},
   "outputs": [
    {
     "data": {
      "text/plain": [
       "array([[[0, 0, 0],\n",
       "        [0, 0, 0],\n",
       "        [0, 0, 0]],\n",
       "\n",
       "       [[0, 0, 0],\n",
       "        [0, 1, 2],\n",
       "        [0, 2, 4]],\n",
       "\n",
       "       [[0, 0, 0],\n",
       "        [0, 2, 4],\n",
       "        [0, 4, 8]]])"
      ]
     },
     "execution_count": 34,
     "metadata": {},
     "output_type": "execute_result"
    }
   ],
   "source": [
    "np.fromfunction(lambda i,j,k:i*j*k,(3,3,3),dtype=int)"
   ]
  },
  {
   "cell_type": "code",
   "execution_count": 35,
   "id": "7ef19e64",
   "metadata": {},
   "outputs": [],
   "source": [
    "# create a new 1-dimensions array from an iterable object"
   ]
  },
  {
   "cell_type": "code",
   "execution_count": 36,
   "id": "734b1ae7",
   "metadata": {},
   "outputs": [
    {
     "name": "stdout",
     "output_type": "stream",
     "text": [
      "0\n",
      "1\n",
      "4\n",
      "9\n",
      "16\n"
     ]
    }
   ],
   "source": [
    "iterable=(x*x for x in range(5))\n",
    "for i in iterable:\n",
    "    print(i)"
   ]
  },
  {
   "cell_type": "code",
   "execution_count": 37,
   "id": "effc7e1a",
   "metadata": {},
   "outputs": [
    {
     "data": {
      "text/plain": [
       "array([], dtype=float64)"
      ]
     },
     "execution_count": 37,
     "metadata": {},
     "output_type": "execute_result"
    }
   ],
   "source": [
    "np.fromiter(iterable,float)"
   ]
  },
  {
   "cell_type": "code",
   "execution_count": 38,
   "id": "47b795b2",
   "metadata": {},
   "outputs": [
    {
     "data": {
      "text/plain": [
       "array([234., 234.])"
      ]
     },
     "execution_count": 38,
     "metadata": {},
     "output_type": "execute_result"
    }
   ],
   "source": [
    "np.fromstring('234 234',sep=' ')"
   ]
  },
  {
   "cell_type": "markdown",
   "id": "ba012590",
   "metadata": {},
   "source": [
    "# arange and linespace"
   ]
  },
  {
   "cell_type": "code",
   "execution_count": 39,
   "id": "69f8696c",
   "metadata": {},
   "outputs": [
    {
     "data": {
      "text/plain": [
       "array([1.        , 1.44444444, 1.88888889, 2.33333333, 2.77777778,\n",
       "       3.22222222, 3.66666667, 4.11111111, 4.55555556, 5.        ])"
      ]
     },
     "execution_count": 39,
     "metadata": {},
     "output_type": "execute_result"
    }
   ],
   "source": [
    "np.linspace(1,5,num=10)"
   ]
  },
  {
   "cell_type": "code",
   "execution_count": 40,
   "id": "d134c7d9",
   "metadata": {},
   "outputs": [
    {
     "data": {
      "text/plain": [
       "array([ 1. ,  3.5,  6. ,  8.5, 11. , 13.5])"
      ]
     },
     "execution_count": 40,
     "metadata": {},
     "output_type": "execute_result"
    }
   ],
   "source": [
    "np.arange(1,16,2.5)"
   ]
  },
  {
   "cell_type": "code",
   "execution_count": 41,
   "id": "8096c70f",
   "metadata": {},
   "outputs": [
    {
     "data": {
      "text/plain": [
       "array([[[ 1. ,  3.5,  6. ],\n",
       "        [ 8.5, 11. , 13.5]]])"
      ]
     },
     "execution_count": 41,
     "metadata": {},
     "output_type": "execute_result"
    }
   ],
   "source": [
    "np.arange(1,16,2.5).reshape(1,2,3)"
   ]
  },
  {
   "cell_type": "code",
   "execution_count": 42,
   "id": "52e01b59",
   "metadata": {},
   "outputs": [
    {
     "data": {
      "text/plain": [
       "array([[[52,  9, 14, 82,  7],\n",
       "        [ 6, 86, 21,  6, 75],\n",
       "        [10, 10, 75, 73, 71],\n",
       "        [58, 56, 30,  5, 79]],\n",
       "\n",
       "       [[ 8, 30, 95, 40, 63],\n",
       "        [52,  7, 42, 56, 43],\n",
       "        [89, 37, 69, 73, 49],\n",
       "        [49, 37, 94, 15, 81]],\n",
       "\n",
       "       [[64, 91, 77, 58, 92],\n",
       "        [89, 94, 21, 26, 93],\n",
       "        [22, 14, 80, 24,  7],\n",
       "        [13, 52, 65, 33, 57]],\n",
       "\n",
       "       [[11, 80, 76, 10,  3],\n",
       "        [49, 85, 68, 54,  2],\n",
       "        [60, 70, 51, 29, 37],\n",
       "        [61, 94, 94, 63, 45]]])"
      ]
     },
     "execution_count": 42,
     "metadata": {},
     "output_type": "execute_result"
    }
   ],
   "source": [
    "np.random.randint(0,100,(4,4,5))"
   ]
  },
  {
   "cell_type": "code",
   "execution_count": 43,
   "id": "ebe0cdc1",
   "metadata": {},
   "outputs": [],
   "source": [
    "from numpy.random import randn,randint,sample,uniform\n",
    "import pandas as pd"
   ]
  },
  {
   "cell_type": "code",
   "execution_count": 44,
   "id": "ed776143",
   "metadata": {},
   "outputs": [
    {
     "data": {
      "text/html": [
       "<div>\n",
       "<style scoped>\n",
       "    .dataframe tbody tr th:only-of-type {\n",
       "        vertical-align: middle;\n",
       "    }\n",
       "\n",
       "    .dataframe tbody tr th {\n",
       "        vertical-align: top;\n",
       "    }\n",
       "\n",
       "    .dataframe thead th {\n",
       "        text-align: right;\n",
       "    }\n",
       "</style>\n",
       "<table border=\"1\" class=\"dataframe\">\n",
       "  <thead>\n",
       "    <tr style=\"text-align: right;\">\n",
       "      <th></th>\n",
       "      <th>W</th>\n",
       "      <th>X</th>\n",
       "      <th>Y</th>\n",
       "      <th>Z</th>\n",
       "    </tr>\n",
       "  </thead>\n",
       "  <tbody>\n",
       "    <tr>\n",
       "      <th>A</th>\n",
       "      <td>-0.884887</td>\n",
       "      <td>2.220050</td>\n",
       "      <td>-0.547813</td>\n",
       "      <td>0.945330</td>\n",
       "    </tr>\n",
       "    <tr>\n",
       "      <th>B</th>\n",
       "      <td>0.648962</td>\n",
       "      <td>-0.995587</td>\n",
       "      <td>2.160292</td>\n",
       "      <td>1.081181</td>\n",
       "    </tr>\n",
       "    <tr>\n",
       "      <th>C</th>\n",
       "      <td>-1.011003</td>\n",
       "      <td>-0.967626</td>\n",
       "      <td>0.433564</td>\n",
       "      <td>1.203238</td>\n",
       "    </tr>\n",
       "    <tr>\n",
       "      <th>D</th>\n",
       "      <td>1.413410</td>\n",
       "      <td>3.981015</td>\n",
       "      <td>0.332871</td>\n",
       "      <td>-0.677134</td>\n",
       "    </tr>\n",
       "    <tr>\n",
       "      <th>E</th>\n",
       "      <td>-1.155767</td>\n",
       "      <td>-1.150176</td>\n",
       "      <td>0.062239</td>\n",
       "      <td>-0.739712</td>\n",
       "    </tr>\n",
       "  </tbody>\n",
       "</table>\n",
       "</div>"
      ],
      "text/plain": [
       "          W         X         Y         Z\n",
       "A -0.884887  2.220050 -0.547813  0.945330\n",
       "B  0.648962 -0.995587  2.160292  1.081181\n",
       "C -1.011003 -0.967626  0.433564  1.203238\n",
       "D  1.413410  3.981015  0.332871 -0.677134\n",
       "E -1.155767 -1.150176  0.062239 -0.739712"
      ]
     },
     "execution_count": 44,
     "metadata": {},
     "output_type": "execute_result"
    }
   ],
   "source": [
    "# d=np.round(rn(5,4))\n",
    "df=pd.DataFrame(randn(5,4),index=list('ABCDE'),columns=list('WXYZ'))\n",
    "df.head()"
   ]
  },
  {
   "cell_type": "code",
   "execution_count": 29,
   "id": "acfb6bdd",
   "metadata": {},
   "outputs": [
    {
     "data": {
      "text/html": [
       "<div>\n",
       "<style scoped>\n",
       "    .dataframe tbody tr th:only-of-type {\n",
       "        vertical-align: middle;\n",
       "    }\n",
       "\n",
       "    .dataframe tbody tr th {\n",
       "        vertical-align: top;\n",
       "    }\n",
       "\n",
       "    .dataframe thead th {\n",
       "        text-align: right;\n",
       "    }\n",
       "</style>\n",
       "<table border=\"1\" class=\"dataframe\">\n",
       "  <thead>\n",
       "    <tr style=\"text-align: right;\">\n",
       "      <th></th>\n",
       "      <th>W</th>\n",
       "      <th>X</th>\n",
       "      <th>Y</th>\n",
       "      <th>Z</th>\n",
       "    </tr>\n",
       "  </thead>\n",
       "  <tbody>\n",
       "    <tr>\n",
       "      <th>A</th>\n",
       "      <td>4.705658</td>\n",
       "      <td>4.705658</td>\n",
       "      <td>4.705658</td>\n",
       "      <td>4.705658</td>\n",
       "    </tr>\n",
       "    <tr>\n",
       "      <th>B</th>\n",
       "      <td>4.705658</td>\n",
       "      <td>4.705658</td>\n",
       "      <td>4.705658</td>\n",
       "      <td>4.705658</td>\n",
       "    </tr>\n",
       "    <tr>\n",
       "      <th>C</th>\n",
       "      <td>4.705658</td>\n",
       "      <td>4.705658</td>\n",
       "      <td>4.705658</td>\n",
       "      <td>4.705658</td>\n",
       "    </tr>\n",
       "    <tr>\n",
       "      <th>D</th>\n",
       "      <td>4.705658</td>\n",
       "      <td>4.705658</td>\n",
       "      <td>4.705658</td>\n",
       "      <td>4.705658</td>\n",
       "    </tr>\n",
       "    <tr>\n",
       "      <th>E</th>\n",
       "      <td>4.705658</td>\n",
       "      <td>4.705658</td>\n",
       "      <td>4.705658</td>\n",
       "      <td>4.705658</td>\n",
       "    </tr>\n",
       "  </tbody>\n",
       "</table>\n",
       "</div>"
      ],
      "text/plain": [
       "          W         X         Y         Z\n",
       "A  4.705658  4.705658  4.705658  4.705658\n",
       "B  4.705658  4.705658  4.705658  4.705658\n",
       "C  4.705658  4.705658  4.705658  4.705658\n",
       "D  4.705658  4.705658  4.705658  4.705658\n",
       "E  4.705658  4.705658  4.705658  4.705658"
      ]
     },
     "execution_count": 29,
     "metadata": {},
     "output_type": "execute_result"
    }
   ],
   "source": [
    "# d=np.round(rn(5,4))\n",
    "pd.DataFrame(uniform(5,4),index=list('ABCDE'),columns=list('WXYZ'))"
   ]
  },
  {
   "cell_type": "code",
   "execution_count": 30,
   "id": "d7db8f5e",
   "metadata": {},
   "outputs": [
    {
     "data": {
      "text/html": [
       "<div>\n",
       "<style scoped>\n",
       "    .dataframe tbody tr th:only-of-type {\n",
       "        vertical-align: middle;\n",
       "    }\n",
       "\n",
       "    .dataframe tbody tr th {\n",
       "        vertical-align: top;\n",
       "    }\n",
       "\n",
       "    .dataframe thead th {\n",
       "        text-align: right;\n",
       "    }\n",
       "</style>\n",
       "<table border=\"1\" class=\"dataframe\">\n",
       "  <thead>\n",
       "    <tr style=\"text-align: right;\">\n",
       "      <th></th>\n",
       "      <th>W</th>\n",
       "      <th>X</th>\n",
       "      <th>Y</th>\n",
       "      <th>Z</th>\n",
       "      <th>A</th>\n",
       "    </tr>\n",
       "  </thead>\n",
       "  <tbody>\n",
       "    <tr>\n",
       "      <th>A</th>\n",
       "      <td>1.168329</td>\n",
       "      <td>-1.260589</td>\n",
       "      <td>-0.163605</td>\n",
       "      <td>-1.093703</td>\n",
       "      <td>NaN</td>\n",
       "    </tr>\n",
       "    <tr>\n",
       "      <th>B</th>\n",
       "      <td>1.875700</td>\n",
       "      <td>-0.311235</td>\n",
       "      <td>0.189703</td>\n",
       "      <td>1.382674</td>\n",
       "      <td>NaN</td>\n",
       "    </tr>\n",
       "    <tr>\n",
       "      <th>C</th>\n",
       "      <td>-0.068285</td>\n",
       "      <td>0.117162</td>\n",
       "      <td>1.034620</td>\n",
       "      <td>0.610582</td>\n",
       "      <td>NaN</td>\n",
       "    </tr>\n",
       "    <tr>\n",
       "      <th>D</th>\n",
       "      <td>0.049419</td>\n",
       "      <td>1.322826</td>\n",
       "      <td>2.009535</td>\n",
       "      <td>-0.463527</td>\n",
       "      <td>NaN</td>\n",
       "    </tr>\n",
       "    <tr>\n",
       "      <th>E</th>\n",
       "      <td>-1.105484</td>\n",
       "      <td>0.748027</td>\n",
       "      <td>-0.872251</td>\n",
       "      <td>-0.774028</td>\n",
       "      <td>NaN</td>\n",
       "    </tr>\n",
       "  </tbody>\n",
       "</table>\n",
       "</div>"
      ],
      "text/plain": [
       "          W         X         Y         Z   A\n",
       "A  1.168329 -1.260589 -0.163605 -1.093703 NaN\n",
       "B  1.875700 -0.311235  0.189703  1.382674 NaN\n",
       "C -0.068285  0.117162  1.034620  0.610582 NaN\n",
       "D  0.049419  1.322826  2.009535 -0.463527 NaN\n",
       "E -1.105484  0.748027 -0.872251 -0.774028 NaN"
      ]
     },
     "execution_count": 30,
     "metadata": {},
     "output_type": "execute_result"
    }
   ],
   "source": [
    "df['A']=pd.Series(np.array([3]*5 ,dtype='float32'))\n",
    "df"
   ]
  },
  {
   "cell_type": "code",
   "execution_count": 31,
   "id": "dd5ae069",
   "metadata": {},
   "outputs": [
    {
     "data": {
      "text/plain": [
       "array(3)"
      ]
     },
     "execution_count": 31,
     "metadata": {},
     "output_type": "execute_result"
    }
   ],
   "source": [
    "np.array(3)"
   ]
  },
  {
   "cell_type": "code",
   "execution_count": 32,
   "id": "fa55b0d3",
   "metadata": {},
   "outputs": [],
   "source": [
    "import seaborn as sns\n",
    "from matplotlib import pyplot as plt"
   ]
  },
  {
   "cell_type": "code",
   "execution_count": 33,
   "id": "76b5a672",
   "metadata": {},
   "outputs": [
    {
     "data": {
      "text/plain": [
       "<seaborn.axisgrid.FacetGrid at 0x236ab37e9d0>"
      ]
     },
     "execution_count": 33,
     "metadata": {},
     "output_type": "execute_result"
    },
    {
     "data": {
      "image/png": "[encoded data removed]",
      "text/plain": [
       "<Figure size 563.75x500 with 1 Axes>"
      ]
     },
     "metadata": {},
     "output_type": "display_data"
    }
   ],
   "source": [
    "sns.displot(df)"
   ]
  },
  {
   "cell_type": "code",
   "execution_count": 34,
   "id": "c41944e5",
   "metadata": {},
   "outputs": [],
   "source": [
    "a=np.array([1,2,3,4,5,6,7])"
   ]
  },
  {
   "cell_type": "code",
   "execution_count": 35,
   "id": "cf21aa02",
   "metadata": {},
   "outputs": [
    {
     "data": {
      "text/plain": [
       "2433928787216"
      ]
     },
     "execution_count": 35,
     "metadata": {},
     "output_type": "execute_result"
    }
   ],
   "source": [
    "id(a) "
   ]
  },
  {
   "cell_type": "code",
   "execution_count": 36,
   "id": "21388d6c",
   "metadata": {},
   "outputs": [],
   "source": [
    "b=a"
   ]
  },
  {
   "cell_type": "code",
   "execution_count": 37,
   "id": "cbcf7dc5",
   "metadata": {},
   "outputs": [
    {
     "data": {
      "text/plain": [
       "2433928787216"
      ]
     },
     "execution_count": 37,
     "metadata": {},
     "output_type": "execute_result"
    }
   ],
   "source": [
    "id(b)"
   ]
  },
  {
   "cell_type": "code",
   "execution_count": 38,
   "id": "ed142ada",
   "metadata": {},
   "outputs": [],
   "source": [
    "c=np.copy(a)"
   ]
  },
  {
   "cell_type": "code",
   "execution_count": 39,
   "id": "9621206a",
   "metadata": {},
   "outputs": [
    {
     "data": {
      "text/plain": [
       "2433928878960"
      ]
     },
     "execution_count": 39,
     "metadata": {},
     "output_type": "execute_result"
    }
   ],
   "source": [
    "id(c)"
   ]
  },
  {
   "cell_type": "code",
   "execution_count": 41,
   "id": "268357eb",
   "metadata": {},
   "outputs": [
    {
     "data": {
      "text/plain": [
       "array([5.52223417, 5.77610796])"
      ]
     },
     "execution_count": 41,
     "metadata": {},
     "output_type": "execute_result"
    }
   ],
   "source": [
    "np.random.normal((5,4))"
   ]
  },
  {
   "cell_type": "code",
   "execution_count": 42,
   "id": "ecddf667",
   "metadata": {},
   "outputs": [
    {
     "ename": "AttributeError",
     "evalue": "module 'numpy' has no attribute 'range'",
     "output_type": "error",
     "traceback": [
      "\u001b[1;31m---------------------------------------------------------------------------\u001b[0m",
      "\u001b[1;31mAttributeError\u001b[0m                            Traceback (most recent call last)",
      "\u001b[1;32m~\\AppData\\Local\\Temp\\ipykernel_11160\\1334405236.py\u001b[0m in \u001b[0;36m<module>\u001b[1;34m\u001b[0m\n\u001b[1;32m----> 1\u001b[1;33m \u001b[0mnp\u001b[0m\u001b[1;33m.\u001b[0m\u001b[0mrange\u001b[0m\u001b[1;33m(\u001b[0m\u001b[1;36m5\u001b[0m\u001b[1;33m)\u001b[0m\u001b[1;33m\u001b[0m\u001b[1;33m\u001b[0m\u001b[0m\n\u001b[0m",
      "\u001b[1;32m~\\AppData\\Roaming\\Python\\Python39\\site-packages\\numpy\\__init__.py\u001b[0m in \u001b[0;36m__getattr__\u001b[1;34m(attr)\u001b[0m\n\u001b[0;32m    309\u001b[0m             \u001b[1;32mreturn\u001b[0m \u001b[0mTester\u001b[0m\u001b[1;33m\u001b[0m\u001b[1;33m\u001b[0m\u001b[0m\n\u001b[0;32m    310\u001b[0m \u001b[1;33m\u001b[0m\u001b[0m\n\u001b[1;32m--> 311\u001b[1;33m         raise AttributeError(\"module {!r} has no attribute \"\n\u001b[0m\u001b[0;32m    312\u001b[0m                              \"{!r}\".format(__name__, attr))\n\u001b[0;32m    313\u001b[0m \u001b[1;33m\u001b[0m\u001b[0m\n",
      "\u001b[1;31mAttributeError\u001b[0m: module 'numpy' has no attribute 'range'"
     ]
    }
   ],
   "source": [
    "np.randomge(5)"
   ]
  },
  {
   "cell_type": "code",
   "execution_count": null,
   "id": "2d86090a",
   "metadata": {},
   "outputs": [],
   "source": []
  }
 ],
 "metadata": {
  "kernelspec": {
   "display_name": "Python 3 (ipykernel)",
   "language": "python",
   "name": "python3"
  },
  "language_info": {
   "codemirror_mode": {
    "name": "ipython",
    "version": 3
   },
   "file_extension": ".py",
   "mimetype": "text/x-python",
   "name": "python",
   "nbconvert_exporter": "python",
   "pygments_lexer": "ipython3",
   "version": "3.9.13"
  }
 },
 "nbformat": 4,
 "nbformat_minor": 5
}
