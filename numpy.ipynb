{
 "cells": [
  {
   "cell_type": "code",
   "execution_count": 1,
   "id": "17f654be",
   "metadata": {},
   "outputs": [
    {
     "data": {
      "text/plain": [
       "array([[0., 0., 0.],\n",
       "       [0., 0., 0.],\n",
       "       [0., 0., 0.]])"
      ]
     },
     "execution_count": 1,
     "metadata": {},
     "output_type": "execute_result"
    }
   ],
   "source": [
    "import numpy as np\n",
    "import pandas as pd\n",
    "from numpy.random import randint as rn\n",
    "a=np.random.random((3,3))\n",
    "a=np.round(a*0.5)\n",
    "a"
   ]
  },
  {
   "cell_type": "code",
   "execution_count": 2,
   "id": "dbd6c9d3",
   "metadata": {},
   "outputs": [
    {
     "data": {
      "text/plain": [
       "[1, 1, 1, 2, 2, 1, 0, -1]"
      ]
     },
     "execution_count": 2,
     "metadata": {},
     "output_type": "execute_result"
    }
   ],
   "source": [
    "a=[0.6,0.8,1.2,1.5,1.8,1.3,0.5,-0.8]\n",
    "[round(x) for x in a]"
   ]
  },
  {
   "cell_type": "code",
   "execution_count": 3,
   "id": "84a07a17",
   "metadata": {},
   "outputs": [
    {
     "data": {
      "text/html": [
       "<div>\n",
       "<style scoped>\n",
       "    .dataframe tbody tr th:only-of-type {\n",
       "        vertical-align: middle;\n",
       "    }\n",
       "\n",
       "    .dataframe tbody tr th {\n",
       "        vertical-align: top;\n",
       "    }\n",
       "\n",
       "    .dataframe thead th {\n",
       "        text-align: right;\n",
       "    }\n",
       "</style>\n",
       "<table border=\"1\" class=\"dataframe\">\n",
       "  <thead>\n",
       "    <tr style=\"text-align: right;\">\n",
       "      <th></th>\n",
       "      <th>q</th>\n",
       "      <th>w</th>\n",
       "      <th>e</th>\n",
       "      <th>r</th>\n",
       "      <th>t</th>\n",
       "    </tr>\n",
       "  </thead>\n",
       "  <tbody>\n",
       "    <tr>\n",
       "      <th>a</th>\n",
       "      <td>0.471992</td>\n",
       "      <td>-1.459733</td>\n",
       "      <td>0.563323</td>\n",
       "      <td>-0.375469</td>\n",
       "      <td>0.588493</td>\n",
       "    </tr>\n",
       "    <tr>\n",
       "      <th>s</th>\n",
       "      <td>0.223409</td>\n",
       "      <td>-0.712256</td>\n",
       "      <td>0.329362</td>\n",
       "      <td>-0.660914</td>\n",
       "      <td>0.432659</td>\n",
       "    </tr>\n",
       "    <tr>\n",
       "      <th>d</th>\n",
       "      <td>0.721965</td>\n",
       "      <td>-0.987086</td>\n",
       "      <td>0.945527</td>\n",
       "      <td>0.334316</td>\n",
       "      <td>-1.963223</td>\n",
       "    </tr>\n",
       "    <tr>\n",
       "      <th>f</th>\n",
       "      <td>0.493293</td>\n",
       "      <td>-0.836919</td>\n",
       "      <td>0.340636</td>\n",
       "      <td>0.663581</td>\n",
       "      <td>-0.944759</td>\n",
       "    </tr>\n",
       "  </tbody>\n",
       "</table>\n",
       "</div>"
      ],
      "text/plain": [
       "          q         w         e         r         t\n",
       "a  0.471992 -1.459733  0.563323 -0.375469  0.588493\n",
       "s  0.223409 -0.712256  0.329362 -0.660914  0.432659\n",
       "d  0.721965 -0.987086  0.945527  0.334316 -1.963223\n",
       "f  0.493293 -0.836919  0.340636  0.663581 -0.944759"
      ]
     },
     "execution_count": 3,
     "metadata": {},
     "output_type": "execute_result"
    }
   ],
   "source": [
    "df=pd.DataFrame(np.random.randn(4,5),index=list('asdf'),columns=list('qwert'))\n",
    "df"
   ]
  },
  {
   "cell_type": "code",
   "execution_count": 7,
   "id": "7fcdde94",
   "metadata": {},
   "outputs": [
    {
     "data": {
      "text/html": [
       "<div>\n",
       "<style scoped>\n",
       "    .dataframe tbody tr th:only-of-type {\n",
       "        vertical-align: middle;\n",
       "    }\n",
       "\n",
       "    .dataframe tbody tr th {\n",
       "        vertical-align: top;\n",
       "    }\n",
       "\n",
       "    .dataframe thead th {\n",
       "        text-align: right;\n",
       "    }\n",
       "</style>\n",
       "<table border=\"1\" class=\"dataframe\">\n",
       "  <thead>\n",
       "    <tr style=\"text-align: right;\">\n",
       "      <th></th>\n",
       "      <th>q</th>\n",
       "      <th>w</th>\n",
       "      <th>e</th>\n",
       "      <th>r</th>\n",
       "      <th>t</th>\n",
       "      <th>h</th>\n",
       "    </tr>\n",
       "  </thead>\n",
       "  <tbody>\n",
       "    <tr>\n",
       "      <th>a</th>\n",
       "      <td>0.471992</td>\n",
       "      <td>-1.459733</td>\n",
       "      <td>0.563323</td>\n",
       "      <td>-0.375469</td>\n",
       "      <td>0.588493</td>\n",
       "      <td>1</td>\n",
       "    </tr>\n",
       "    <tr>\n",
       "      <th>s</th>\n",
       "      <td>0.223409</td>\n",
       "      <td>-0.712256</td>\n",
       "      <td>0.329362</td>\n",
       "      <td>-0.660914</td>\n",
       "      <td>0.432659</td>\n",
       "      <td>2</td>\n",
       "    </tr>\n",
       "    <tr>\n",
       "      <th>d</th>\n",
       "      <td>0.721965</td>\n",
       "      <td>-0.987086</td>\n",
       "      <td>0.945527</td>\n",
       "      <td>0.334316</td>\n",
       "      <td>-1.963223</td>\n",
       "      <td>1</td>\n",
       "    </tr>\n",
       "    <tr>\n",
       "      <th>f</th>\n",
       "      <td>0.493293</td>\n",
       "      <td>-0.836919</td>\n",
       "      <td>0.340636</td>\n",
       "      <td>0.663581</td>\n",
       "      <td>-0.944759</td>\n",
       "      <td>2</td>\n",
       "    </tr>\n",
       "  </tbody>\n",
       "</table>\n",
       "</div>"
      ],
      "text/plain": [
       "          q         w         e         r         t  h\n",
       "a  0.471992 -1.459733  0.563323 -0.375469  0.588493  1\n",
       "s  0.223409 -0.712256  0.329362 -0.660914  0.432659  2\n",
       "d  0.721965 -0.987086  0.945527  0.334316 -1.963223  1\n",
       "f  0.493293 -0.836919  0.340636  0.663581 -0.944759  2"
      ]
     },
     "execution_count": 7,
     "metadata": {},
     "output_type": "execute_result"
    }
   ],
   "source": [
    "df['h']=[1,2,1,2]\n",
    "df"
   ]
  },
  {
   "cell_type": "code",
   "execution_count": 10,
   "id": "9175e186",
   "metadata": {},
   "outputs": [
    {
     "data": {
      "text/plain": [
       "<pandas.core.groupby.generic.DataFrameGroupBy object at 0x000001F691A3BDF0>"
      ]
     },
     "execution_count": 10,
     "metadata": {},
     "output_type": "execute_result"
    }
   ],
   "source": [
    "df.groupby('h')"
   ]
  },
  {
   "cell_type": "code",
   "execution_count": 11,
   "id": "8576b0ab",
   "metadata": {},
   "outputs": [
    {
     "ename": "TypeError",
     "evalue": "Transform function failed",
     "output_type": "error",
     "traceback": [
      "\u001b[1;31m---------------------------------------------------------------------------\u001b[0m",
      "\u001b[1;31mTypeError\u001b[0m                                 Traceback (most recent call last)",
      "\u001b[1;32m~\\AppData\\Local\\Temp\\ipykernel_1604\\1317758105.py\u001b[0m in \u001b[0;36m<module>\u001b[1;34m\u001b[0m\n\u001b[1;32m----> 1\u001b[1;33m \u001b[0mdf\u001b[0m\u001b[1;33m[\u001b[0m\u001b[1;34m'q'\u001b[0m\u001b[1;33m]\u001b[0m\u001b[1;33m.\u001b[0m\u001b[0mtransform\u001b[0m\u001b[1;33m(\u001b[0m\u001b[0mround\u001b[0m\u001b[1;33m(\u001b[0m\u001b[0mi\u001b[0m\u001b[1;33m)\u001b[0m \u001b[1;32mfor\u001b[0m \u001b[0mi\u001b[0m \u001b[1;32min\u001b[0m \u001b[0mdf\u001b[0m\u001b[1;33m[\u001b[0m\u001b[1;34m'q'\u001b[0m\u001b[1;33m]\u001b[0m\u001b[1;33m)\u001b[0m\u001b[1;33m\u001b[0m\u001b[1;33m\u001b[0m\u001b[0m\n\u001b[0m",
      "\u001b[1;32mC:\\ProgramData\\Anaconda3\\lib\\site-packages\\pandas\\core\\series.py\u001b[0m in \u001b[0;36mtransform\u001b[1;34m(self, func, axis, *args, **kwargs)\u001b[0m\n\u001b[0;32m   4316\u001b[0m         \u001b[1;31m# Validate axis argument\u001b[0m\u001b[1;33m\u001b[0m\u001b[1;33m\u001b[0m\u001b[0m\n\u001b[0;32m   4317\u001b[0m         \u001b[0mself\u001b[0m\u001b[1;33m.\u001b[0m\u001b[0m_get_axis_number\u001b[0m\u001b[1;33m(\u001b[0m\u001b[0maxis\u001b[0m\u001b[1;33m)\u001b[0m\u001b[1;33m\u001b[0m\u001b[1;33m\u001b[0m\u001b[0m\n\u001b[1;32m-> 4318\u001b[1;33m         result = SeriesApply(\n\u001b[0m\u001b[0;32m   4319\u001b[0m             \u001b[0mself\u001b[0m\u001b[1;33m,\u001b[0m \u001b[0mfunc\u001b[0m\u001b[1;33m=\u001b[0m\u001b[0mfunc\u001b[0m\u001b[1;33m,\u001b[0m \u001b[0mconvert_dtype\u001b[0m\u001b[1;33m=\u001b[0m\u001b[1;32mTrue\u001b[0m\u001b[1;33m,\u001b[0m \u001b[0margs\u001b[0m\u001b[1;33m=\u001b[0m\u001b[0margs\u001b[0m\u001b[1;33m,\u001b[0m \u001b[0mkwargs\u001b[0m\u001b[1;33m=\u001b[0m\u001b[0mkwargs\u001b[0m\u001b[1;33m\u001b[0m\u001b[1;33m\u001b[0m\u001b[0m\n\u001b[0;32m   4320\u001b[0m         ).transform()\n",
      "\u001b[1;32mC:\\ProgramData\\Anaconda3\\lib\\site-packages\\pandas\\core\\apply.py\u001b[0m in \u001b[0;36mtransform\u001b[1;34m(self)\u001b[0m\n\u001b[0;32m    216\u001b[0m         \u001b[1;32mif\u001b[0m \u001b[0mis_dict_like\u001b[0m\u001b[1;33m(\u001b[0m\u001b[0mfunc\u001b[0m\u001b[1;33m)\u001b[0m\u001b[1;33m:\u001b[0m\u001b[1;33m\u001b[0m\u001b[1;33m\u001b[0m\u001b[0m\n\u001b[0;32m    217\u001b[0m             \u001b[0mfunc\u001b[0m \u001b[1;33m=\u001b[0m \u001b[0mcast\u001b[0m\u001b[1;33m(\u001b[0m\u001b[0mAggFuncTypeDict\u001b[0m\u001b[1;33m,\u001b[0m \u001b[0mfunc\u001b[0m\u001b[1;33m)\u001b[0m\u001b[1;33m\u001b[0m\u001b[1;33m\u001b[0m\u001b[0m\n\u001b[1;32m--> 218\u001b[1;33m             \u001b[1;32mreturn\u001b[0m \u001b[0mself\u001b[0m\u001b[1;33m.\u001b[0m\u001b[0mtransform_dict_like\u001b[0m\u001b[1;33m(\u001b[0m\u001b[0mfunc\u001b[0m\u001b[1;33m)\u001b[0m\u001b[1;33m\u001b[0m\u001b[1;33m\u001b[0m\u001b[0m\n\u001b[0m\u001b[0;32m    219\u001b[0m \u001b[1;33m\u001b[0m\u001b[0m\n\u001b[0;32m    220\u001b[0m         \u001b[1;31m# func is either str or callable\u001b[0m\u001b[1;33m\u001b[0m\u001b[1;33m\u001b[0m\u001b[0m\n",
      "\u001b[1;32mC:\\ProgramData\\Anaconda3\\lib\\site-packages\\pandas\\core\\apply.py\u001b[0m in \u001b[0;36mtransform_dict_like\u001b[1;34m(self, func)\u001b[0m\n\u001b[0;32m    280\u001b[0m         \u001b[1;32mif\u001b[0m \u001b[1;32mnot\u001b[0m \u001b[0mresults\u001b[0m\u001b[1;33m:\u001b[0m\u001b[1;33m\u001b[0m\u001b[1;33m\u001b[0m\u001b[0m\n\u001b[0;32m    281\u001b[0m             \u001b[0mklass\u001b[0m \u001b[1;33m=\u001b[0m \u001b[0mTypeError\u001b[0m \u001b[1;32mif\u001b[0m \u001b[0mall_type_errors\u001b[0m \u001b[1;32melse\u001b[0m \u001b[0mValueError\u001b[0m\u001b[1;33m\u001b[0m\u001b[1;33m\u001b[0m\u001b[0m\n\u001b[1;32m--> 282\u001b[1;33m             \u001b[1;32mraise\u001b[0m \u001b[0mklass\u001b[0m\u001b[1;33m(\u001b[0m\u001b[1;34m\"Transform function failed\"\u001b[0m\u001b[1;33m)\u001b[0m\u001b[1;33m\u001b[0m\u001b[1;33m\u001b[0m\u001b[0m\n\u001b[0m\u001b[0;32m    283\u001b[0m         \u001b[1;32mif\u001b[0m \u001b[0mlen\u001b[0m\u001b[1;33m(\u001b[0m\u001b[0mfailed_names\u001b[0m\u001b[1;33m)\u001b[0m \u001b[1;33m>\u001b[0m \u001b[1;36m0\u001b[0m\u001b[1;33m:\u001b[0m\u001b[1;33m\u001b[0m\u001b[1;33m\u001b[0m\u001b[0m\n\u001b[0;32m    284\u001b[0m             warnings.warn(\n",
      "\u001b[1;31mTypeError\u001b[0m: Transform function failed"
     ]
    }
   ],
   "source": [
    "df['q'].transform(round(i) for i in df['q'])"
   ]
  },
  {
   "cell_type": "markdown",
   "id": "ce4550c9",
   "metadata": {},
   "source": [
    "# boolean Indexing"
   ]
  },
  {
   "cell_type": "code",
   "execution_count": 12,
   "id": "2587976c",
   "metadata": {},
   "outputs": [
    {
     "data": {
      "text/plain": [
       "array([[62, 92, 44, 55],\n",
       "       [25, 51, 16, 64],\n",
       "       [50, 11, 41, 27],\n",
       "       [69, 67, 11, 98],\n",
       "       [28, 62, 30,  9],\n",
       "       [71, 72, 18, 39]])"
      ]
     },
     "execution_count": 12,
     "metadata": {},
     "output_type": "execute_result"
    }
   ],
   "source": [
    "a=np.random.randint(1,100,24).reshape(6,4)\n",
    "a"
   ]
  },
  {
   "cell_type": "code",
   "execution_count": 13,
   "id": "7e85f0ac",
   "metadata": {},
   "outputs": [
    {
     "data": {
      "text/plain": [
       "array([[ True,  True, False,  True],\n",
       "       [False,  True, False,  True],\n",
       "       [False, False, False, False],\n",
       "       [ True,  True, False,  True],\n",
       "       [False,  True, False, False],\n",
       "       [ True,  True, False, False]])"
      ]
     },
     "execution_count": 13,
     "metadata": {},
     "output_type": "execute_result"
    }
   ],
   "source": [
    "a>50  # boolean array, find all the numbers greater then 50"
   ]
  },
  {
   "cell_type": "code",
   "execution_count": 14,
   "id": "06fbd0ae",
   "metadata": {},
   "outputs": [
    {
     "data": {
      "text/plain": [
       "array([62, 92, 55, 51, 64, 69, 67, 98, 62, 71, 72])"
      ]
     },
     "execution_count": 14,
     "metadata": {},
     "output_type": "execute_result"
    }
   ],
   "source": [
    "a[a>50] # filter  the data"
   ]
  },
  {
   "cell_type": "code",
   "execution_count": 15,
   "id": "75319012",
   "metadata": {},
   "outputs": [
    {
     "data": {
      "text/plain": [
       "array([[ True,  True,  True, False],\n",
       "       [False, False,  True,  True],\n",
       "       [ True, False, False, False],\n",
       "       [False, False, False,  True],\n",
       "       [ True,  True,  True, False],\n",
       "       [False,  True,  True, False]])"
      ]
     },
     "execution_count": 15,
     "metadata": {},
     "output_type": "execute_result"
    }
   ],
   "source": [
    "a%2==0 # find the even numbers"
   ]
  },
  {
   "cell_type": "code",
   "execution_count": 16,
   "id": "d9222899",
   "metadata": {},
   "outputs": [
    {
     "data": {
      "text/plain": [
       "array([62, 92, 44, 16, 64, 50, 98, 28, 62, 30, 72, 18])"
      ]
     },
     "execution_count": 16,
     "metadata": {},
     "output_type": "execute_result"
    }
   ],
   "source": [
    "a[a%2==0]"
   ]
  },
  {
   "cell_type": "code",
   "execution_count": 17,
   "id": "aa06430e",
   "metadata": {},
   "outputs": [
    {
     "data": {
      "text/plain": [
       "array([[ True,  True, False, False],\n",
       "       [False, False, False,  True],\n",
       "       [False, False, False, False],\n",
       "       [False, False, False,  True],\n",
       "       [False,  True, False, False],\n",
       "       [False,  True, False, False]])"
      ]
     },
     "execution_count": 17,
     "metadata": {},
     "output_type": "execute_result"
    }
   ],
   "source": [
    "(a>50)&(a%2==0) # find the even numbers greater then 50"
   ]
  },
  {
   "cell_type": "code",
   "execution_count": 18,
   "id": "03b41b5c",
   "metadata": {},
   "outputs": [
    {
     "data": {
      "text/plain": [
       "array([62, 92, 64, 98, 62, 72])"
      ]
     },
     "execution_count": 18,
     "metadata": {},
     "output_type": "execute_result"
    }
   ],
   "source": [
    "a[(a>50)&(a%2==0)]"
   ]
  },
  {
   "cell_type": "code",
   "execution_count": 19,
   "id": "f9abfca7",
   "metadata": {},
   "outputs": [
    {
     "data": {
      "text/plain": [
       "array([98, 28])"
      ]
     },
     "execution_count": 19,
     "metadata": {},
     "output_type": "execute_result"
    }
   ],
   "source": [
    "a[a%7==0]"
   ]
  },
  {
   "cell_type": "markdown",
   "id": "c1562635",
   "metadata": {},
   "source": [
    "# Broadcasting\n",
    "> The terms broadcasting describe How NumPy treats arrays with different shapes during airthmatics operations "
   ]
  },
  {
   "cell_type": "code",
   "execution_count": 20,
   "id": "aadf0ee4",
   "metadata": {},
   "outputs": [
    {
     "name": "stdout",
     "output_type": "stream",
     "text": [
      "[[0 1 2]\n",
      " [3 4 5]]\n",
      "\n",
      "[[ 6  7  8]\n",
      " [ 9 10 11]]\n"
     ]
    }
   ],
   "source": [
    "# same shape\n",
    "a=np.arange(6).reshape(2,3)\n",
    "b=np.arange(6,12).reshape(2,3)\n",
    "print(a)\n",
    "print()\n",
    "print(b)"
   ]
  },
  {
   "cell_type": "code",
   "execution_count": 21,
   "id": "b4662358",
   "metadata": {},
   "outputs": [
    {
     "data": {
      "text/plain": [
       "2"
      ]
     },
     "execution_count": 21,
     "metadata": {},
     "output_type": "execute_result"
    }
   ],
   "source": [
    "b.shape[0]"
   ]
  },
  {
   "cell_type": "code",
   "execution_count": 22,
   "id": "4a53fb91",
   "metadata": {},
   "outputs": [
    {
     "ename": "TypeError",
     "evalue": "random() takes at most 1 positional argument (2 given)",
     "output_type": "error",
     "traceback": [
      "\u001b[1;31m---------------------------------------------------------------------------\u001b[0m",
      "\u001b[1;31mTypeError\u001b[0m                                 Traceback (most recent call last)",
      "\u001b[1;32m~\\AppData\\Local\\Temp\\ipykernel_1604\\4003780920.py\u001b[0m in \u001b[0;36m<module>\u001b[1;34m\u001b[0m\n\u001b[1;32m----> 1\u001b[1;33m \u001b[0mnp\u001b[0m\u001b[1;33m.\u001b[0m\u001b[0mappend\u001b[0m\u001b[1;33m(\u001b[0m\u001b[0mb\u001b[0m\u001b[1;33m,\u001b[0m\u001b[0mnp\u001b[0m\u001b[1;33m.\u001b[0m\u001b[0mrandom\u001b[0m\u001b[1;33m.\u001b[0m\u001b[0mrandom\u001b[0m\u001b[1;33m(\u001b[0m\u001b[0mb\u001b[0m\u001b[1;33m.\u001b[0m\u001b[0mshape\u001b[0m\u001b[1;33m[\u001b[0m\u001b[1;36m0\u001b[0m\u001b[1;33m]\u001b[0m\u001b[1;33m,\u001b[0m\u001b[1;36m1\u001b[0m\u001b[1;33m)\u001b[0m\u001b[1;33m,\u001b[0m\u001b[0maxis\u001b[0m\u001b[1;33m=\u001b[0m\u001b[1;36m1\u001b[0m\u001b[1;33m)\u001b[0m\u001b[1;33m\u001b[0m\u001b[1;33m\u001b[0m\u001b[0m\n\u001b[0m",
      "\u001b[1;32mmtrand.pyx\u001b[0m in \u001b[0;36mnumpy.random.mtrand.RandomState.random\u001b[1;34m()\u001b[0m\n",
      "\u001b[1;31mTypeError\u001b[0m: random() takes at most 1 positional argument (2 given)"
     ]
    }
   ],
   "source": [
    "np.append(b,np.random.random(b.shape[0],1),axis=1)"
   ]
  },
  {
   "cell_type": "code",
   "execution_count": 23,
   "id": "1f3e4183",
   "metadata": {},
   "outputs": [
    {
     "data": {
      "text/plain": [
       "array([[ 0,  1,  2],\n",
       "       [ 3,  4,  5],\n",
       "       [ 6,  7,  8],\n",
       "       [ 9, 10, 11]])"
      ]
     },
     "execution_count": 23,
     "metadata": {},
     "output_type": "execute_result"
    }
   ],
   "source": [
    "np.concatenate((a,b),axis=0)"
   ]
  },
  {
   "cell_type": "markdown",
   "id": "d3b77962",
   "metadata": {},
   "source": [
    "# np.where ()\n",
    "> The numpy.where() functions returns the indices of elements in a input array where "
   ]
  },
  {
   "cell_type": "code",
   "execution_count": 24,
   "id": "4d356db4",
   "metadata": {},
   "outputs": [
    {
     "data": {
      "text/plain": [
       "array([[ 5,  8, 26, 63],\n",
       "       [ 7, 48, 30, 76],\n",
       "       [75, 60, 90, 30],\n",
       "       [16, 21, 27, 69],\n",
       "       [87, 42, 63, 10],\n",
       "       [51, 44, 63, 87]])"
      ]
     },
     "execution_count": 24,
     "metadata": {},
     "output_type": "execute_result"
    }
   ],
   "source": [
    "c=np.random.randint(1,100,24).reshape(6,4)\n",
    "c"
   ]
  },
  {
   "cell_type": "code",
   "execution_count": 25,
   "id": "51e5af46",
   "metadata": {},
   "outputs": [
    {
     "data": {
      "text/plain": [
       "array([[ 5,  8, 26,  0],\n",
       "       [ 7, 48, 30,  0],\n",
       "       [ 0,  0,  0, 30],\n",
       "       [16, 21, 27,  0],\n",
       "       [ 0, 42,  0, 10],\n",
       "       [ 0, 44,  0,  0]])"
      ]
     },
     "execution_count": 25,
     "metadata": {},
     "output_type": "execute_result"
    }
   ],
   "source": [
    "np.where(c>50,0,c) # more then 50 is 0 and less then as it "
   ]
  },
  {
   "cell_type": "code",
   "execution_count": 26,
   "id": "b2ac5bcb",
   "metadata": {},
   "outputs": [
    {
     "data": {
      "text/plain": [
       "array([[ 5,  0,  0, 63],\n",
       "       [ 7,  0,  0,  0],\n",
       "       [75,  0,  0,  0],\n",
       "       [ 0, 21, 27, 69],\n",
       "       [87,  0, 63,  0],\n",
       "       [51,  0, 63, 87]])"
      ]
     },
     "execution_count": 26,
     "metadata": {},
     "output_type": "execute_result"
    }
   ],
   "source": [
    "np.where(c%2==0,0,c) # even"
   ]
  },
  {
   "cell_type": "markdown",
   "id": "755bdb97",
   "metadata": {},
   "source": [
    "# np.argmax()\n",
    "> The numpy.argmax() function returns indices of the max element of the array in perticular axis."
   ]
  },
  {
   "cell_type": "code",
   "execution_count": 27,
   "id": "957fe93b",
   "metadata": {},
   "outputs": [
    {
     "data": {
      "text/plain": [
       "10"
      ]
     },
     "execution_count": 27,
     "metadata": {},
     "output_type": "execute_result"
    }
   ],
   "source": [
    "np.argmax(c)"
   ]
  },
  {
   "cell_type": "markdown",
   "id": "507538d1",
   "metadata": {},
   "source": [
    "# np.cumsum()\n",
    "> numpy.cumsum()  function is used when we want to compute the cumulative sum of array elements over a given axis."
   ]
  },
  {
   "cell_type": "code",
   "execution_count": 28,
   "id": "5a461304",
   "metadata": {},
   "outputs": [
    {
     "data": {
      "text/plain": [
       "array([   5,   13,   39,  102,  109,  157,  187,  263,  338,  398,  488,\n",
       "        518,  534,  555,  582,  651,  738,  780,  843,  853,  904,  948,\n",
       "       1011, 1098])"
      ]
     },
     "execution_count": 28,
     "metadata": {},
     "output_type": "execute_result"
    }
   ],
   "source": [
    "np.cumsum(c)"
   ]
  },
  {
   "cell_type": "code",
   "execution_count": null,
   "id": "dea92913",
   "metadata": {},
   "outputs": [],
   "source": []
  },
  {
   "cell_type": "code",
   "execution_count": 29,
   "id": "3db372d8",
   "metadata": {},
   "outputs": [
    {
     "data": {
      "text/plain": [
       "array([          5,          40,        1040,       65520,      458640,\n",
       "          22014720,   660441600, -1346045952,  2125768704, -1302896640,\n",
       "       -1296580608,  -242712576,   411566080,    52953088,  1429733376,\n",
       "        -132644864,  1344798720,   646971392,  2104492032,  -429916160,\n",
       "        -450887680,  1635778560,   -25165824,  2105540608])"
      ]
     },
     "execution_count": 29,
     "metadata": {},
     "output_type": "execute_result"
    }
   ],
   "source": [
    "np.cumprod(c)"
   ]
  },
  {
   "cell_type": "code",
   "execution_count": 30,
   "id": "fbc62b1a",
   "metadata": {},
   "outputs": [
    {
     "data": {
      "text/plain": [
       "63.0"
      ]
     },
     "execution_count": 30,
     "metadata": {},
     "output_type": "execute_result"
    }
   ],
   "source": [
    "np.percentile(c,70) # 70 percent of the datasets"
   ]
  },
  {
   "cell_type": "markdown",
   "id": "58112db0",
   "metadata": {},
   "source": [
    "# np.histogram()\n",
    "> Numpy has a build in numpy.histogram() functions which represents the frequency of the data distributions in the graphical form.\n",
    "> bins size are also are important because bins are also represent range."
   ]
  },
  {
   "cell_type": "code",
   "execution_count": 31,
   "id": "8d14d086",
   "metadata": {},
   "outputs": [
    {
     "data": {
      "text/plain": [
       "(array([2, 3, 2, 3, 1, 5], dtype=int64), array([10, 20, 30, 40, 50, 60, 70]))"
      ]
     },
     "execution_count": 31,
     "metadata": {},
     "output_type": "execute_result"
    }
   ],
   "source": [
    "np.histogram(c,bins=[10,20,30,40,50,60,70])"
   ]
  },
  {
   "cell_type": "code",
   "execution_count": 32,
   "id": "d89c58a3",
   "metadata": {},
   "outputs": [
    {
     "data": {
      "text/plain": [
       "array([[ 1.        ,  0.80694731, -0.69172322,  0.98213668, -0.80826849,\n",
       "         0.97923705],\n",
       "       [ 0.80694731,  1.        , -0.83870665,  0.8585095 , -0.99971385,\n",
       "         0.67239344],\n",
       "       [-0.69172322, -0.83870665,  1.        , -0.81479698,  0.85146735,\n",
       "        -0.60235683],\n",
       "       [ 0.98213668,  0.8585095 , -0.81479698,  1.        , -0.86315162,\n",
       "         0.94495555],\n",
       "       [-0.80826849, -0.99971385,  0.85146735, -0.86315162,  1.        ,\n",
       "        -0.67500602],\n",
       "       [ 0.97923705,  0.67239344, -0.60235683,  0.94495555, -0.67500602,\n",
       "         1.        ]])"
      ]
     },
     "execution_count": 32,
     "metadata": {},
     "output_type": "execute_result"
    }
   ],
   "source": [
    "# correlation\n",
    "np.corrcoef(c)"
   ]
  },
  {
   "cell_type": "code",
   "execution_count": 33,
   "id": "043ca24d",
   "metadata": {},
   "outputs": [],
   "source": [
    "salary=np.array([20,50,40,80,90,700,60,500,70,])\n",
    "experience=np.array([1,2,3,4,5,6,7,8,9])"
   ]
  },
  {
   "cell_type": "code",
   "execution_count": 28,
   "id": "c8a31830",
   "metadata": {},
   "outputs": [
    {
     "data": {
      "text/plain": [
       "array([[1.        , 0.41202861],\n",
       "       [0.41202861, 1.        ]])"
      ]
     },
     "execution_count": 28,
     "metadata": {},
     "output_type": "execute_result"
    }
   ],
   "source": [
    "np.corrcoef(salary,experience)"
   ]
  },
  {
   "cell_type": "code",
   "execution_count": 29,
   "id": "69696bba",
   "metadata": {},
   "outputs": [
    {
     "data": {
      "text/plain": [
       "array([40, 80])"
      ]
     },
     "execution_count": 29,
     "metadata": {},
     "output_type": "execute_result"
    }
   ],
   "source": [
    "c[np.isin(c,salary)]"
   ]
  },
  {
   "cell_type": "code",
   "execution_count": 30,
   "id": "4c73c2f3",
   "metadata": {},
   "outputs": [],
   "source": [
    "np.put(salary,[0,1],[5300,8000]) # update the elements with the hepl of index"
   ]
  },
  {
   "cell_type": "code",
   "execution_count": 31,
   "id": "c1736c10",
   "metadata": {},
   "outputs": [
    {
     "data": {
      "text/plain": [
       "array([5300, 8000,   40,   80,   90,  700,   60,  500,   70])"
      ]
     },
     "execution_count": 31,
     "metadata": {},
     "output_type": "execute_result"
    }
   ],
   "source": [
    "salary"
   ]
  },
  {
   "cell_type": "code",
   "execution_count": 32,
   "id": "055cceb3",
   "metadata": {},
   "outputs": [
    {
     "data": {
      "text/plain": [
       "array([8000,   40,   80,   90,  700,   60,  500,   70])"
      ]
     },
     "execution_count": 32,
     "metadata": {},
     "output_type": "execute_result"
    }
   ],
   "source": [
    "np.delete(salary,0)  # delete the elements with the help of index"
   ]
  },
  {
   "cell_type": "code",
   "execution_count": 33,
   "id": "f485d389",
   "metadata": {},
   "outputs": [],
   "source": [
    "import numpy as np"
   ]
  },
  {
   "cell_type": "code",
   "execution_count": 34,
   "id": "5c3de2d2",
   "metadata": {},
   "outputs": [],
   "source": [
    "s=[1,2,3,4,5,6,7,8,9,8,7,6,5,4,3,2,1]"
   ]
  },
  {
   "cell_type": "code",
   "execution_count": 35,
   "id": "af644e85",
   "metadata": {},
   "outputs": [
    {
     "data": {
      "text/plain": [
       "4.764705882352941"
      ]
     },
     "execution_count": 35,
     "metadata": {},
     "output_type": "execute_result"
    }
   ],
   "source": [
    "np.mean(s)"
   ]
  },
  {
   "cell_type": "code",
   "execution_count": 36,
   "id": "dcd7a862",
   "metadata": {},
   "outputs": [
    {
     "data": {
      "text/plain": [
       "5.0"
      ]
     },
     "execution_count": 36,
     "metadata": {},
     "output_type": "execute_result"
    }
   ],
   "source": [
    "np.median(s)"
   ]
  },
  {
   "cell_type": "code",
   "execution_count": 37,
   "id": "df18a576",
   "metadata": {},
   "outputs": [
    {
     "name": "stderr",
     "output_type": "stream",
     "text": [
      "C:\\Users\\Amarendra Kumar\\AppData\\Local\\Temp\\ipykernel_640\\3151479742.py:2: FutureWarning: Unlike other reduction functions (e.g. `skew`, `kurtosis`), the default behavior of `mode` typically preserves the axis it acts along. In SciPy 1.11.0, this behavior will change: the default value of `keepdims` will become False, the `axis` over which the statistic is taken will be eliminated, and the value None will no longer be accepted. Set `keepdims` to True or False to avoid this warning.\n",
      "  stats.mode(s)\n"
     ]
    },
    {
     "data": {
      "text/plain": [
       "ModeResult(mode=array([1]), count=array([2]))"
      ]
     },
     "execution_count": 37,
     "metadata": {},
     "output_type": "execute_result"
    }
   ],
   "source": [
    "from scipy import stats\n",
    "stats.mode(s)"
   ]
  },
  {
   "cell_type": "code",
   "execution_count": 38,
   "id": "efc8c398",
   "metadata": {},
   "outputs": [],
   "source": [
    "s1=[1,2,3,4,5,6,7,8,9,8,7,6,5,4,3,2,1,3,4,5,6,7,852,984,324,8742,1456,985]"
   ]
  },
  {
   "cell_type": "code",
   "execution_count": 39,
   "id": "701347c1",
   "metadata": {},
   "outputs": [
    {
     "data": {
      "text/plain": [
       "480.32142857142856"
      ]
     },
     "execution_count": 39,
     "metadata": {},
     "output_type": "execute_result"
    }
   ],
   "source": [
    "np.mean(s1)"
   ]
  },
  {
   "cell_type": "code",
   "execution_count": 40,
   "id": "cc71e71f",
   "metadata": {},
   "outputs": [
    {
     "data": {
      "text/plain": [
       "6.0"
      ]
     },
     "execution_count": 40,
     "metadata": {},
     "output_type": "execute_result"
    }
   ],
   "source": [
    "np.median(s1)"
   ]
  },
  {
   "cell_type": "code",
   "execution_count": null,
   "id": "166c411e",
   "metadata": {},
   "outputs": [],
   "source": []
  },
  {
   "cell_type": "code",
   "execution_count": 41,
   "id": "ea397f5b",
   "metadata": {},
   "outputs": [],
   "source": [
    "x=2+3j"
   ]
  },
  {
   "cell_type": "code",
   "execution_count": 42,
   "id": "1b31aa79",
   "metadata": {},
   "outputs": [
    {
     "data": {
      "text/plain": [
       "complex"
      ]
     },
     "execution_count": 42,
     "metadata": {},
     "output_type": "execute_result"
    }
   ],
   "source": [
    "type(x)"
   ]
  },
  {
   "cell_type": "code",
   "execution_count": 45,
   "id": "14b44d6e",
   "metadata": {},
   "outputs": [
    {
     "data": {
      "text/plain": [
       "2.0"
      ]
     },
     "execution_count": 45,
     "metadata": {},
     "output_type": "execute_result"
    }
   ],
   "source": [
    "np.real(x)"
   ]
  },
  {
   "cell_type": "code",
   "execution_count": 46,
   "id": "7e9f1a83",
   "metadata": {},
   "outputs": [
    {
     "data": {
      "text/plain": [
       "3.0"
      ]
     },
     "execution_count": 46,
     "metadata": {},
     "output_type": "execute_result"
    }
   ],
   "source": [
    "np.imag(x)"
   ]
  },
  {
   "cell_type": "code",
   "execution_count": null,
   "id": "c109d4ff",
   "metadata": {},
   "outputs": [],
   "source": []
  }
 ],
 "metadata": {
  "kernelspec": {
   "display_name": "Python 3 (ipykernel)",
   "language": "python",
   "name": "python3"
  },
  "language_info": {
   "codemirror_mode": {
    "name": "ipython",
    "version": 3
   },
   "file_extension": ".py",
   "mimetype": "text/x-python",
   "name": "python",
   "nbconvert_exporter": "python",
   "pygments_lexer": "ipython3",
   "version": "3.9.13"
  }
 },
 "nbformat": 4,
 "nbformat_minor": 5
}
